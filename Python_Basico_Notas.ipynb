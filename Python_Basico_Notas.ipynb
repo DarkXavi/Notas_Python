{
 "cells": [
  {
   "cell_type": "markdown",
   "metadata": {},
   "source": [
    "## **TIPOS DE DATOS**"
   ]
  },
  {
   "cell_type": "code",
   "execution_count": 1,
   "metadata": {},
   "outputs": [],
   "source": [
    "x = 5"
   ]
  },
  {
   "cell_type": "code",
   "execution_count": 2,
   "metadata": {},
   "outputs": [
    {
     "data": {
      "text/plain": [
       "int"
      ]
     },
     "execution_count": 2,
     "metadata": {},
     "output_type": "execute_result"
    }
   ],
   "source": [
    "type(x)"
   ]
  },
  {
   "cell_type": "code",
   "execution_count": 6,
   "metadata": {},
   "outputs": [],
   "source": [
    "y = 3.0"
   ]
  },
  {
   "cell_type": "code",
   "execution_count": 7,
   "metadata": {},
   "outputs": [
    {
     "data": {
      "text/plain": [
       "float"
      ]
     },
     "execution_count": 7,
     "metadata": {},
     "output_type": "execute_result"
    }
   ],
   "source": [
    "type(y)"
   ]
  },
  {
   "cell_type": "code",
   "execution_count": 3,
   "metadata": {},
   "outputs": [],
   "source": [
    "# Datos booleanos\n",
    "es_verdadero = True\n",
    "es_falso = False"
   ]
  },
  {
   "cell_type": "code",
   "execution_count": null,
   "metadata": {},
   "outputs": [],
   "source": [
    "type(es_verdadero)"
   ]
  },
  {
   "cell_type": "code",
   "execution_count": null,
   "metadata": {},
   "outputs": [],
   "source": [
    "# Dato tipo string\n",
    "saludo = \"Hola\"\n",
    "type(saludo)"
   ]
  },
  {
   "cell_type": "code",
   "execution_count": null,
   "metadata": {},
   "outputs": [],
   "source": [
    "# Dato tipo complejo\n",
    "z = 2 +3j\n",
    "type(z)\n"
   ]
  },
  {
   "cell_type": "code",
   "execution_count": null,
   "metadata": {},
   "outputs": [],
   "source": [
    "# Transformar de string a entero\n",
    "a = '6'\n",
    "type(a)\n",
    "b = int(a)\n",
    "type(b)"
   ]
  },
  {
   "cell_type": "code",
   "execution_count": 1,
   "metadata": {},
   "outputs": [],
   "source": [
    "# Numeros Random\n",
    "import random"
   ]
  },
  {
   "cell_type": "code",
   "execution_count": 2,
   "metadata": {},
   "outputs": [
    {
     "name": "stdout",
     "output_type": "stream",
     "text": [
      "8\n"
     ]
    }
   ],
   "source": [
    "aleatorio = random.randrange(1, 10) # Numeros aleatorios del 1 al 9.\n",
    "print(aleatorio)"
   ]
  },
  {
   "cell_type": "code",
   "execution_count": 10,
   "metadata": {},
   "outputs": [
    {
     "name": "stdout",
     "output_type": "stream",
     "text": [
      "2\n",
      "9\n"
     ]
    }
   ],
   "source": [
    "aletorio_par = random.randrange(2, 11, 2) # Numeros pares aleatorios \n",
    "print(aletorio_par)\n",
    "\n",
    "aletorio_impar = random.randrange(1, 10, 2) # Numeros impares aleatorios \n",
    "print(aletorio_impar)"
   ]
  },
  {
   "cell_type": "code",
   "execution_count": 7,
   "metadata": {},
   "outputs": [
    {
     "name": "stdout",
     "output_type": "stream",
     "text": [
      "Papel\n"
     ]
    }
   ],
   "source": [
    "import random\n",
    "x = random.randint(1, 6) #Número entero random.\n",
    "y = random.random() # Número random entre el 0 y 1.\n",
    "\n",
    "mi_lista = ['Piedra', 'Papel', 'Tijera']\n",
    "z = random.choice(mi_lista)\n",
    "\n",
    "print(z)"
   ]
  },
  {
   "cell_type": "code",
   "execution_count": 8,
   "metadata": {},
   "outputs": [
    {
     "name": "stdout",
     "output_type": "stream",
     "text": [
      "['J', 'K', '2', '6', '8', 'Q', '3', '9', '1', '7', '10', '5', '4']\n"
     ]
    }
   ],
   "source": [
    "# Mezclar\n",
    "cartas = ['1', '2', '3', '4', '5', '6', '7', '8', '9', '10', 'J', 'Q', 'K']\n",
    "random.shuffle(cartas)\n",
    "\n",
    "print(cartas)"
   ]
  },
  {
   "cell_type": "markdown",
   "metadata": {},
   "source": [
    "## **OPERADORES ARITMETICOS**"
   ]
  },
  {
   "cell_type": "code",
   "execution_count": 9,
   "metadata": {},
   "outputs": [
    {
     "data": {
      "text/plain": [
       "7"
      ]
     },
     "execution_count": 9,
     "metadata": {},
     "output_type": "execute_result"
    }
   ],
   "source": [
    "# Suma\n",
    "3+4"
   ]
  },
  {
   "cell_type": "code",
   "execution_count": 10,
   "metadata": {},
   "outputs": [
    {
     "data": {
      "text/plain": [
       "-1"
      ]
     },
     "execution_count": 10,
     "metadata": {},
     "output_type": "execute_result"
    }
   ],
   "source": [
    "#Resta\n",
    "3-4"
   ]
  },
  {
   "cell_type": "code",
   "execution_count": 11,
   "metadata": {},
   "outputs": [
    {
     "data": {
      "text/plain": [
       "12"
      ]
     },
     "execution_count": 11,
     "metadata": {},
     "output_type": "execute_result"
    }
   ],
   "source": [
    "#Multiplicación \n",
    "3*4"
   ]
  },
  {
   "cell_type": "code",
   "execution_count": 12,
   "metadata": {},
   "outputs": [
    {
     "data": {
      "text/plain": [
       "6.25"
      ]
     },
     "execution_count": 12,
     "metadata": {},
     "output_type": "execute_result"
    }
   ],
   "source": [
    "#División\n",
    "25/4"
   ]
  },
  {
   "cell_type": "code",
   "execution_count": 13,
   "metadata": {},
   "outputs": [
    {
     "data": {
      "text/plain": [
       "6"
      ]
     },
     "execution_count": 13,
     "metadata": {},
     "output_type": "execute_result"
    }
   ],
   "source": [
    "#División entera\n",
    "25//4"
   ]
  },
  {
   "cell_type": "code",
   "execution_count": 14,
   "metadata": {},
   "outputs": [
    {
     "data": {
      "text/plain": [
       "1"
      ]
     },
     "execution_count": 14,
     "metadata": {},
     "output_type": "execute_result"
    }
   ],
   "source": [
    "#Modulo (resto)\n",
    "25 % 4"
   ]
  },
  {
   "cell_type": "code",
   "execution_count": 15,
   "metadata": {},
   "outputs": [
    {
     "data": {
      "text/plain": [
       "16"
      ]
     },
     "execution_count": 15,
     "metadata": {},
     "output_type": "execute_result"
    }
   ],
   "source": [
    "#Potencia\n",
    "4**2"
   ]
  },
  {
   "cell_type": "markdown",
   "metadata": {},
   "source": [
    "## **OPERADORES DE COMPARACION**"
   ]
  },
  {
   "cell_type": "code",
   "execution_count": 18,
   "metadata": {},
   "outputs": [
    {
     "data": {
      "text/plain": [
       "True"
      ]
     },
     "execution_count": 18,
     "metadata": {},
     "output_type": "execute_result"
    }
   ],
   "source": [
    "#Igualdad\n",
    "5==5"
   ]
  },
  {
   "cell_type": "code",
   "execution_count": 19,
   "metadata": {},
   "outputs": [
    {
     "data": {
      "text/plain": [
       "False"
      ]
     },
     "execution_count": 19,
     "metadata": {},
     "output_type": "execute_result"
    }
   ],
   "source": [
    "#Diferente\n",
    "5!=5"
   ]
  },
  {
   "cell_type": "code",
   "execution_count": 21,
   "metadata": {},
   "outputs": [
    {
     "data": {
      "text/plain": [
       "False"
      ]
     },
     "execution_count": 21,
     "metadata": {},
     "output_type": "execute_result"
    }
   ],
   "source": [
    "#Menor que, Menor o igual\n",
    "5<=3"
   ]
  },
  {
   "cell_type": "code",
   "execution_count": 22,
   "metadata": {},
   "outputs": [
    {
     "data": {
      "text/plain": [
       "True"
      ]
     },
     "execution_count": 22,
     "metadata": {},
     "output_type": "execute_result"
    }
   ],
   "source": [
    "#Mayor, Mayor o igual\n",
    "5>=3"
   ]
  },
  {
   "cell_type": "markdown",
   "metadata": {},
   "source": [
    "## **OPERADORES LOGICOS**"
   ]
  },
  {
   "cell_type": "code",
   "execution_count": 24,
   "metadata": {},
   "outputs": [
    {
     "data": {
      "text/plain": [
       "False"
      ]
     },
     "execution_count": 24,
     "metadata": {},
     "output_type": "execute_result"
    }
   ],
   "source": [
    "#AND, OR, NOT\n",
    "edad = 5\n",
    "edad > 2 or edad < 1\n",
    "edad < 10 and edad > 0\n",
    "not True\n"
   ]
  },
  {
   "cell_type": "markdown",
   "metadata": {},
   "source": [
    "## **CONDICIONALES**"
   ]
  },
  {
   "cell_type": "code",
   "execution_count": 25,
   "metadata": {},
   "outputs": [
    {
     "name": "stdout",
     "output_type": "stream",
     "text": [
      "El número es impar\n"
     ]
    }
   ],
   "source": [
    "#if-else\n",
    "# determinar si un numero es par\n",
    "num = 3\n",
    "if num % 2 == 0:\n",
    "\tprint(\"El número es par\")\n",
    "else:\n",
    "\tprint(\"El número es impar\")"
   ]
  },
  {
   "cell_type": "code",
   "execution_count": 26,
   "metadata": {},
   "outputs": [
    {
     "name": "stdout",
     "output_type": "stream",
     "text": [
      "El número es positivo\n"
     ]
    }
   ],
   "source": [
    "# Validar signo de un numero\n",
    "x = 10\n",
    "if x>0:\n",
    "\tprint(\"El número es positivo\")\n",
    "elif x==0:\n",
    "\tprint(\"El número es cero\")\n",
    "else:\n",
    "\tprint(\"El número es negativo\")\n"
   ]
  },
  {
   "cell_type": "markdown",
   "metadata": {},
   "source": [
    "## **MATCH, CASE**"
   ]
  },
  {
   "cell_type": "code",
   "execution_count": 28,
   "metadata": {},
   "outputs": [
    {
     "name": "stdout",
     "output_type": "stream",
     "text": [
      "Opcion 2\n"
     ]
    }
   ],
   "source": [
    "num = 2\n",
    "match num:\n",
    "\tcase 1:\n",
    "\t\tprint(\"Opcion 1\")\n",
    "\tcase 2:\n",
    "\t\tprint(\"Opcion 2\")\n",
    "\tcase _: #Ninguna de las opciones\n",
    "\t\tprint(\"Ninguna Opcion\")\n",
    "  "
   ]
  },
  {
   "cell_type": "code",
   "execution_count": 30,
   "metadata": {},
   "outputs": [
    {
     "name": "stdout",
     "output_type": "stream",
     "text": [
      "Positivo\n"
     ]
    }
   ],
   "source": [
    "num = 2\n",
    "match num:\n",
    "\tcase 0:\n",
    "\t\tprint(\"Cero\")\n",
    "\tcase n if n > 0 :\n",
    "\t\tprint(\"Positivo\")\n",
    "\tcase n if n < 0 :\n",
    "\t\tprint(\"Negativo\")\n",
    "\tcase _: #Ninguna de las opciones\n",
    "\t\tprint(\"No se puede clasificar\")\n",
    "  "
   ]
  },
  {
   "cell_type": "code",
   "execution_count": 32,
   "metadata": {},
   "outputs": [
    {
     "name": "stdout",
     "output_type": "stream",
     "text": [
      "Obesidad Moderada\n"
     ]
    }
   ],
   "source": [
    "# Indice de masa corporal imc\n",
    "imc = 30\n",
    "match imc:\n",
    "\tcase valor if 0 < valor <= 18.5:\n",
    "\t\tprint(\"Peso Bajo\")\n",
    "\tcase valor if 18.5 < valor <= 24.9:\n",
    "\t\tprint(\"Peso Normal (Saludable)\")\n",
    "\tcase valor if 24.9 < valor <= 29.9:\n",
    "\t\tprint(\"Sobrepeso\")\n",
    "\tcase valor if 29.9 < valor <= 34.9:\n",
    "\t\tprint(\"Obesidad Moderada\")\n",
    "\tcase valor if 34.9 < valor <= 39.9:\n",
    "\t\tprint(\"Obesidad Severa\")\n",
    "\tcase valor if 39.9 < valor:\n",
    "\t\tprint(\"Obesidad Muy Severa\")\n",
    "\tcase _ :\n",
    "\t\tprint(\"Valor No Válido\")\n",
    "  "
   ]
  },
  {
   "cell_type": "markdown",
   "metadata": {},
   "source": [
    "## **CADENAS DE TEXTO YY OPERACIONES CON STRINGS**"
   ]
  },
  {
   "cell_type": "code",
   "execution_count": 1,
   "metadata": {},
   "outputs": [
    {
     "data": {
      "text/plain": [
       "'Pepito Perez'"
      ]
     },
     "execution_count": 1,
     "metadata": {},
     "output_type": "execute_result"
    }
   ],
   "source": [
    "p = \"Pepe\"\n",
    "p\n",
    "q = \"Pérez\"\n",
    "# Concatenar cadena\n",
    "r = p + \" \" + q\n",
    "r"
   ]
  },
  {
   "cell_type": "code",
   "execution_count": 4,
   "metadata": {},
   "outputs": [
    {
     "data": {
      "text/plain": [
       "'P'"
      ]
     },
     "execution_count": 4,
     "metadata": {},
     "output_type": "execute_result"
    }
   ],
   "source": [
    "# Posición\n",
    "r[0]"
   ]
  },
  {
   "cell_type": "code",
   "execution_count": 6,
   "metadata": {},
   "outputs": [
    {
     "data": {
      "text/plain": [
       "'pit'"
      ]
     },
     "execution_count": 6,
     "metadata": {},
     "output_type": "execute_result"
    }
   ],
   "source": [
    "# Sub cadenas\n",
    "r[0:3]\n",
    "r[2:5]"
   ]
  },
  {
   "cell_type": "code",
   "execution_count": 7,
   "metadata": {},
   "outputs": [
    {
     "data": {
      "text/plain": [
       "12"
      ]
     },
     "execution_count": 7,
     "metadata": {},
     "output_type": "execute_result"
    }
   ],
   "source": [
    "# Longitud Cadena\n",
    "len(r)"
   ]
  },
  {
   "cell_type": "code",
   "execution_count": 8,
   "metadata": {},
   "outputs": [
    {
     "data": {
      "text/plain": [
       "'z'"
      ]
     },
     "execution_count": 8,
     "metadata": {},
     "output_type": "execute_result"
    }
   ],
   "source": [
    "# Ultimo carácter\n",
    "r[-1]"
   ]
  },
  {
   "cell_type": "code",
   "execution_count": 11,
   "metadata": {},
   "outputs": [
    {
     "data": {
      "text/plain": [
       "'erez'"
      ]
     },
     "execution_count": 11,
     "metadata": {},
     "output_type": "execute_result"
    }
   ],
   "source": [
    "r[-4:-1]\n",
    "r[0:-1]\n",
    "r[-4:]"
   ]
  },
  {
   "cell_type": "code",
   "execution_count": 14,
   "metadata": {},
   "outputs": [
    {
     "data": {
      "text/plain": [
       "'DARIO'"
      ]
     },
     "execution_count": 14,
     "metadata": {},
     "output_type": "execute_result"
    }
   ],
   "source": [
    "# Mayúsculas\n",
    "r.upper()\n",
    "\"daRIO\".upper()"
   ]
  },
  {
   "cell_type": "code",
   "execution_count": 15,
   "metadata": {},
   "outputs": [
    {
     "data": {
      "text/plain": [
       "'dario'"
      ]
     },
     "execution_count": 15,
     "metadata": {},
     "output_type": "execute_result"
    }
   ],
   "source": [
    "# Minúsculas\n",
    "r.lower()\n",
    "\"daRIO\".lower()\n"
   ]
  },
  {
   "cell_type": "code",
   "execution_count": 16,
   "metadata": {},
   "outputs": [
    {
     "data": {
      "text/plain": [
       "'Dario'"
      ]
     },
     "execution_count": 16,
     "metadata": {},
     "output_type": "execute_result"
    }
   ],
   "source": [
    "# Primera letra mayúscula\n",
    "\"daRIO\".capitalize()"
   ]
  },
  {
   "cell_type": "code",
   "execution_count": 2,
   "metadata": {},
   "outputs": [
    {
     "data": {
      "text/plain": [
       "['Pepito', 'Perez']"
      ]
     },
     "execution_count": 2,
     "metadata": {},
     "output_type": "execute_result"
    }
   ],
   "source": [
    "# Cadena de texto a lista\n",
    "r.split()"
   ]
  },
  {
   "cell_type": "markdown",
   "metadata": {},
   "source": [
    "## **LISTAS**"
   ]
  },
  {
   "cell_type": "code",
   "execution_count": 4,
   "metadata": {},
   "outputs": [
    {
     "data": {
      "text/plain": [
       "True"
      ]
     },
     "execution_count": 4,
     "metadata": {},
     "output_type": "execute_result"
    }
   ],
   "source": [
    "# Lista\n",
    "mi_lista = [1, 2, 3, \"Hola\", True]\n",
    "mi_lista[4] # Llamar al dato mediante la posición"
   ]
  },
  {
   "cell_type": "code",
   "execution_count": null,
   "metadata": {},
   "outputs": [
    {
     "data": {
      "text/plain": [
       "[1, 'Pepito', 3, 'Hola', True]"
      ]
     },
     "metadata": {},
     "output_type": "display_data"
    }
   ],
   "source": [
    "# Cambiar valores dentro de lista\n",
    "mi_lista[1] = \"Pepe\"\n",
    "mi_lista"
   ]
  },
  {
   "cell_type": "code",
   "execution_count": null,
   "metadata": {},
   "outputs": [
    {
     "data": {
      "text/plain": [
       "[1, 'Pepito', 3, 'Hola', True, 8]"
      ]
     },
     "metadata": {},
     "output_type": "display_data"
    }
   ],
   "source": [
    "# Añadir nuevo elemento en la lista\n",
    "mi_lista.append(8)\n",
    "mi_lista"
   ]
  },
  {
   "cell_type": "code",
   "execution_count": null,
   "metadata": {},
   "outputs": [
    {
     "data": {
      "text/plain": [
       "6"
      ]
     },
     "metadata": {},
     "output_type": "display_data"
    }
   ],
   "source": [
    "# Longitud de la lista\n",
    "len(mi_lista)"
   ]
  },
  {
   "cell_type": "code",
   "execution_count": null,
   "metadata": {},
   "outputs": [
    {
     "data": {
      "text/plain": [
       "(3, 'Hola')"
      ]
     },
     "metadata": {},
     "output_type": "display_data"
    }
   ],
   "source": [
    "# Obtener elementos de lista\n",
    "mi_lista[2:4]"
   ]
  },
  {
   "cell_type": "code",
   "execution_count": null,
   "metadata": {},
   "outputs": [
    {
     "data": {
      "text/plain": [
       "'True'"
      ]
     },
     "metadata": {},
     "output_type": "display_data"
    }
   ],
   "source": [
    "# Mostrar ultimo registro\n",
    "mi_lista[-1]"
   ]
  },
  {
   "cell_type": "code",
   "execution_count": null,
   "metadata": {},
   "outputs": [],
   "source": [
    "# Remover elemento\n",
    "mi_lista.remove(1)\n",
    "mi_lista"
   ]
  },
  {
   "cell_type": "code",
   "execution_count": null,
   "metadata": {},
   "outputs": [
    {
     "data": {
      "text/plain": [
       "['a', 'z', 'c']"
      ]
     },
     "metadata": {},
     "output_type": "display_data"
    }
   ],
   "source": [
    "# Copia de lista sin afectar modificaciones a la lista original\n",
    "l1 = ['a', 'b', 'c']\n",
    "l2 = l1\n",
    "l2[1] = 'z'\n",
    "l1\n",
    "l3 = l1.copy()\n",
    "l3[1] = 'd'\n",
    "l3\n",
    "l1"
   ]
  },
  {
   "cell_type": "code",
   "execution_count": null,
   "metadata": {},
   "outputs": [
    {
     "data": {
      "text/plain": [
       "'a,z,c'"
      ]
     },
     "metadata": {},
     "output_type": "display_data"
    }
   ],
   "source": [
    "# Unir lista\n",
    "'-'.join(l1)\n",
    "','.join(l1)"
   ]
  },
  {
   "cell_type": "code",
   "execution_count": 4,
   "metadata": {},
   "outputs": [
    {
     "name": "stdout",
     "output_type": "stream",
     "text": [
      "['Pera', 'Uva', 'Naranja']\n",
      "['Manzana', 'Pera', 'Uva']\n",
      "['Naranja', 'Kiwi']\n",
      "['Manzana', 'Uva', 'Kiwi']\n",
      "['Naranja', 'Kiwi']\n",
      "['Kiwi', 'Naranja', 'Uva', 'Pera', 'Manzana']\n"
     ]
    }
   ],
   "source": [
    "# Subconjunto de una lista\n",
    "frutas = [\"Manzana\", \"Pera\", \"Uva\", \"Naranja\", \"Kiwi\"]\n",
    "print(frutas[1:4])\n",
    "print(frutas[:3])\n",
    "print(frutas[3:])\n",
    "print(frutas[::2])\n",
    "print(frutas[-2:])\n",
    "print(frutas[::-1])"
   ]
  },
  {
   "cell_type": "code",
   "execution_count": 3,
   "metadata": {},
   "outputs": [
    {
     "name": "stdout",
     "output_type": "stream",
     "text": [
      "True\n",
      "False\n"
     ]
    }
   ],
   "source": [
    "# Verificar si un elemento está en la lista\n",
    "frutas = [\"Manzana\", \"Pera\", \"Uva\", \"Naranja\", \"Kiwi\"]\n",
    "print(\"Pera\" in frutas)\n",
    "print(\"Banana\" in frutas)"
   ]
  },
  {
   "cell_type": "code",
   "execution_count": 19,
   "metadata": {},
   "outputs": [
    {
     "name": "stdout",
     "output_type": "stream",
     "text": [
      "Banana No está en la lista de frutas.\n",
      "Naranja SI está en la lista de frutas.\n"
     ]
    }
   ],
   "source": [
    "# Verificar si un elemento de una lista esta en otra lista\n",
    "frutas = [\"Manzana\", \"Pera\", \"Uva\", \"Naranja\", \"Kiwi\"]\n",
    "buscar = [\"Banana\", \"Naranja\"]\n",
    "\n",
    "for i in buscar:\n",
    "    if i in frutas:\n",
    "        print(f\"{i} SI está en la lista de frutas.\")\n",
    "    else:\n",
    "        print(f\"{i} No está en la lista de frutas.\")"
   ]
  },
  {
   "cell_type": "code",
   "execution_count": 1,
   "metadata": {},
   "outputs": [
    {
     "name": "stdout",
     "output_type": "stream",
     "text": [
      "Manzana\n",
      "['Pera', 'Uva', 'Naranja', 'Kiwi']\n"
     ]
    }
   ],
   "source": [
    "# Desempaquetado\n",
    "una_fruta, *frutas = [\"Manzana\", \"Pera\", \"Uva\", \"Naranja\", \"Kiwi\"]\n",
    "print(una_fruta)\n",
    "print(frutas)"
   ]
  },
  {
   "cell_type": "code",
   "execution_count": 17,
   "metadata": {},
   "outputs": [
    {
     "name": "stdout",
     "output_type": "stream",
     "text": [
      "[1, 1, 2, 3, 4, 5, 6, 9]\n",
      "['aceituna', 'banana', 'cereza', 'manzana', 'naranja', 'pera']\n",
      "[9, 6, 5, 4, 3, 2, 1, 1]\n",
      "['pera', 'naranja', 'manzana', 'cereza', 'banana', 'aceituna']\n"
     ]
    }
   ],
   "source": [
    "# Ordenar lista\n",
    "num = [3, 1, 4, 1, 5, 9, 2, 6]\n",
    "num.sort()\n",
    "print(num)\n",
    "\n",
    "frutas = [\"manzana\", \"banana\", \"pera\", \"cereza\", \"aceituna\", \"naranja\"]\n",
    "frutas.sort()\n",
    "print(frutas)\n",
    "\n",
    "num = [3, 1, 4, 1, 5, 9, 2, 6]\n",
    "orden_desc = sorted(num, reverse = True)\n",
    "print(orden_desc)\n",
    "\n",
    "frutas = [\"manzana\", \"banana\", \"pera\", \"cereza\", \"aceituna\", \"naranja\"]\n",
    "orden_desc1 = sorted(frutas, reverse = True)\n",
    "print(orden_desc1)"
   ]
  },
  {
   "cell_type": "markdown",
   "metadata": {},
   "source": [
    "## **TUPLAS**"
   ]
  },
  {
   "cell_type": "code",
   "execution_count": 5,
   "metadata": {},
   "outputs": [
    {
     "data": {
      "text/plain": [
       "'True'"
      ]
     },
     "execution_count": 5,
     "metadata": {},
     "output_type": "execute_result"
    }
   ],
   "source": [
    "# Tupla\n",
    "# La tupla es un objeto inmutable, es decir, no se puede cambiar los valores ingresados\n",
    "mi_tupla = (1, 2, 3, \"Hola\", \"True\")\n",
    "mi_tupla[4]"
   ]
  },
  {
   "cell_type": "code",
   "execution_count": 9,
   "metadata": {},
   "outputs": [
    {
     "data": {
      "text/plain": [
       "6"
      ]
     },
     "execution_count": 9,
     "metadata": {},
     "output_type": "execute_result"
    }
   ],
   "source": [
    "# Longitud de la tupla\n",
    "len(mi_tupla)"
   ]
  },
  {
   "cell_type": "code",
   "execution_count": 11,
   "metadata": {},
   "outputs": [
    {
     "data": {
      "text/plain": [
       "(3, 'Hola')"
      ]
     },
     "execution_count": 11,
     "metadata": {},
     "output_type": "execute_result"
    }
   ],
   "source": [
    "# Obtener elementos de tupla\n",
    "mi_tupla[2:4]"
   ]
  },
  {
   "cell_type": "code",
   "execution_count": 13,
   "metadata": {},
   "outputs": [
    {
     "data": {
      "text/plain": [
       "'True'"
      ]
     },
     "execution_count": 13,
     "metadata": {},
     "output_type": "execute_result"
    }
   ],
   "source": [
    "# Mostrar ultimo registro\n",
    "mi_tupla[-1]"
   ]
  },
  {
   "cell_type": "markdown",
   "metadata": {},
   "source": [
    "## **FOR, BREAK, CONTINUE**"
   ]
  },
  {
   "cell_type": "code",
   "execution_count": 29,
   "metadata": {},
   "outputs": [
    {
     "name": "stdout",
     "output_type": "stream",
     "text": [
      "1\n",
      "4\n",
      "5\n",
      "2\n",
      "3\n"
     ]
    }
   ],
   "source": [
    "sec = [1, 4, 5, 2, 3]\n",
    "for ele in sec:\n",
    "\tprint(ele)"
   ]
  },
  {
   "cell_type": "code",
   "execution_count": 30,
   "metadata": {},
   "outputs": [
    {
     "name": "stdout",
     "output_type": "stream",
     "text": [
      "P\n",
      "y\n",
      "t\n",
      "h\n",
      "o\n",
      "n\n"
     ]
    }
   ],
   "source": [
    "for letra in 'Python':\n",
    "\tprint(letra)"
   ]
  },
  {
   "cell_type": "code",
   "execution_count": 31,
   "metadata": {},
   "outputs": [
    {
     "name": "stdout",
     "output_type": "stream",
     "text": [
      "0\n",
      "1\n",
      "2\n",
      "3\n"
     ]
    }
   ],
   "source": [
    "# Range\n",
    "for x in range(4):\n",
    "\tprint(x)"
   ]
  },
  {
   "cell_type": "code",
   "execution_count": 32,
   "metadata": {},
   "outputs": [
    {
     "name": "stdout",
     "output_type": "stream",
     "text": [
      "1\n",
      "4\n",
      "5\n",
      "2\n",
      "3\n"
     ]
    }
   ],
   "source": [
    "for i in range(len(sec)):\n",
    "\tprint(sec[i])"
   ]
  },
  {
   "cell_type": "code",
   "execution_count": 33,
   "metadata": {},
   "outputs": [
    {
     "name": "stdout",
     "output_type": "stream",
     "text": [
      "Elemento 0: 1\n",
      "Elemento 1: 4\n",
      "Elemento 2: 5\n",
      "Elemento 3: 2\n",
      "Elemento 4: 3\n"
     ]
    }
   ],
   "source": [
    "# Enumerate\n",
    "for indice, valor in enumerate(sec):\n",
    "\tprint(f\"Elemento {indice}: {valor}\") # Formateo de cadena de texto\n",
    " # f: Imprime valor y texto"
   ]
  },
  {
   "cell_type": "code",
   "execution_count": 34,
   "metadata": {},
   "outputs": [
    {
     "name": "stdout",
     "output_type": "stream",
     "text": [
      "1\n",
      "4\n",
      "5\n"
     ]
    }
   ],
   "source": [
    "# Break: Sirve para terminar el proceso o bucle\n",
    "for elemento in sec:\n",
    "\tprint(elemento)\n",
    "\tif elemento == 5:\n",
    "\t\tbreak"
   ]
  },
  {
   "cell_type": "code",
   "execution_count": 35,
   "metadata": {},
   "outputs": [
    {
     "name": "stdout",
     "output_type": "stream",
     "text": [
      "1\n",
      "4\n",
      "2\n",
      "3\n"
     ]
    }
   ],
   "source": [
    "# Continue: Sirve para hacer un salto, es decir se salta el paso donde este el continue\n",
    "for elemento in sec:\n",
    "\tif elemento == 5:\n",
    "\t\tcontinue\n",
    "\tprint(elemento)"
   ]
  },
  {
   "cell_type": "markdown",
   "metadata": {},
   "source": [
    "## **WHILE**"
   ]
  },
  {
   "cell_type": "code",
   "execution_count": 36,
   "metadata": {},
   "outputs": [
    {
     "name": "stdout",
     "output_type": "stream",
     "text": [
      "Contador: 0\n",
      "Contador: 1\n",
      "Contador: 2\n",
      "Contador: 3\n",
      "Contador: 4\n"
     ]
    }
   ],
   "source": [
    "cont = 0\n",
    "while cont < 5:\n",
    "\tprint(f\"Contador: {cont}\")\n",
    "\tcont += 1\n",
    "  "
   ]
  },
  {
   "cell_type": "code",
   "execution_count": 37,
   "metadata": {},
   "outputs": [
    {
     "name": "stdout",
     "output_type": "stream",
     "text": [
      "Contador: 0\n",
      "Contador: 1\n",
      "Contador: 2\n",
      "Contador: 3\n",
      "Contador: 4\n"
     ]
    }
   ],
   "source": [
    "# Break\n",
    "cont = 0\n",
    "while True:\n",
    "\tprint(f\"Contador: {cont}\")\n",
    "\tcont += 1\n",
    "\tif cont == 5:\n",
    "\t\tbreak  "
   ]
  },
  {
   "cell_type": "code",
   "execution_count": 38,
   "metadata": {},
   "outputs": [
    {
     "name": "stdout",
     "output_type": "stream",
     "text": [
      "Contador: 1\n",
      "Contador: 2\n",
      "Contador: 4\n",
      "Contador: 5\n"
     ]
    }
   ],
   "source": [
    "# Continue\n",
    "cont = 0\n",
    "while cont < 5:\n",
    "\tcont += 1\n",
    "\tif cont == 3:\n",
    "\t\tcontinue  \n",
    "\tprint(f\"Contador: {cont}\")"
   ]
  },
  {
   "cell_type": "markdown",
   "metadata": {},
   "source": [
    "## **DICCIONARIOS Y CONJUNTOS**"
   ]
  },
  {
   "cell_type": "code",
   "execution_count": 41,
   "metadata": {},
   "outputs": [
    {
     "data": {
      "text/plain": [
       "3"
      ]
     },
     "execution_count": 41,
     "metadata": {},
     "output_type": "execute_result"
    }
   ],
   "source": [
    "diccionario = {\"clave1\": 3, \"clave2\": 5, \"clave3\": 7}\n",
    "valor = diccionario[\"clave1\"]\n",
    "valor"
   ]
  },
  {
   "cell_type": "code",
   "execution_count": 42,
   "metadata": {},
   "outputs": [
    {
     "data": {
      "text/plain": [
       "{'clave1': 3, 'clave2': 10, 'clave3': 7}"
      ]
     },
     "execution_count": 42,
     "metadata": {},
     "output_type": "execute_result"
    }
   ],
   "source": [
    "# Modificar valores\n",
    "diccionario[\"clave2\"] = 10\n",
    "diccionario"
   ]
  },
  {
   "cell_type": "code",
   "execution_count": 43,
   "metadata": {},
   "outputs": [
    {
     "data": {
      "text/plain": [
       "{'clave1': 3, 'clave2': 10, 'clave3': 7, 'clave4': 15}"
      ]
     },
     "execution_count": 43,
     "metadata": {},
     "output_type": "execute_result"
    }
   ],
   "source": [
    "# Crear un nuevo item\n",
    "diccionario[\"clave4\"] = 15\n",
    "diccionario"
   ]
  },
  {
   "cell_type": "code",
   "execution_count": null,
   "metadata": {},
   "outputs": [],
   "source": [
    "# Eliminar elemento\n",
    "diccionario.pop(\"clave3\")"
   ]
  },
  {
   "cell_type": "code",
   "execution_count": 47,
   "metadata": {},
   "outputs": [
    {
     "data": {
      "text/plain": [
       "{'clave1': 3, 'clave2': 10, 'clave4': 15}"
      ]
     },
     "execution_count": 47,
     "metadata": {},
     "output_type": "execute_result"
    }
   ],
   "source": [
    "diccionario"
   ]
  },
  {
   "cell_type": "code",
   "execution_count": 48,
   "metadata": {},
   "outputs": [
    {
     "name": "stdout",
     "output_type": "stream",
     "text": [
      "Clave: clave1, Valor: 3\n",
      "Clave: clave2, Valor: 10\n",
      "Clave: clave4, Valor: 15\n"
     ]
    }
   ],
   "source": [
    "# Iterar sobre un diccionario (clave y valor)\n",
    "for clave, valor in diccionario.items():\n",
    "\tprint(f\"Clave: {clave}, Valor: {valor}\")"
   ]
  },
  {
   "cell_type": "code",
   "execution_count": 49,
   "metadata": {},
   "outputs": [
    {
     "name": "stdout",
     "output_type": "stream",
     "text": [
      "clave1\n",
      "clave2\n",
      "clave4\n"
     ]
    }
   ],
   "source": [
    "# Iterar sobre un diccionario (solo la clave)\n",
    "for ele in diccionario:\n",
    " \tprint(ele)"
   ]
  },
  {
   "cell_type": "code",
   "execution_count": 50,
   "metadata": {},
   "outputs": [
    {
     "data": {
      "text/plain": [
       "dict_keys(['clave1', 'clave2', 'clave4'])"
      ]
     },
     "execution_count": 50,
     "metadata": {},
     "output_type": "execute_result"
    }
   ],
   "source": [
    "# Función keys()\n",
    "diccionario.keys()"
   ]
  },
  {
   "cell_type": "code",
   "execution_count": 51,
   "metadata": {},
   "outputs": [
    {
     "data": {
      "text/plain": [
       "dict_values([3, 10, 15])"
      ]
     },
     "execution_count": 51,
     "metadata": {},
     "output_type": "execute_result"
    }
   ],
   "source": [
    "# Función values() Valores\n",
    "diccionario.values()"
   ]
  },
  {
   "cell_type": "code",
   "execution_count": 52,
   "metadata": {},
   "outputs": [
    {
     "data": {
      "text/plain": [
       "dict_items([('clave1', 3), ('clave2', 10), ('clave4', 15)])"
      ]
     },
     "execution_count": 52,
     "metadata": {},
     "output_type": "execute_result"
    }
   ],
   "source": [
    "# Función items(). Lista de tuplas\n",
    "diccionario.items()"
   ]
  },
  {
   "cell_type": "code",
   "execution_count": 59,
   "metadata": {},
   "outputs": [
    {
     "data": {
      "text/plain": [
       "3"
      ]
     },
     "execution_count": 59,
     "metadata": {},
     "output_type": "execute_result"
    }
   ],
   "source": [
    "# Longitud\n",
    "len(diccionario)"
   ]
  },
  {
   "cell_type": "markdown",
   "metadata": {},
   "source": [
    "## **CONJUNTOS**"
   ]
  },
  {
   "cell_type": "code",
   "execution_count": 54,
   "metadata": {},
   "outputs": [
    {
     "data": {
      "text/plain": [
       "{1, 3, 9}"
      ]
     },
     "execution_count": 54,
     "metadata": {},
     "output_type": "execute_result"
    }
   ],
   "source": [
    "# Los elementos repetidos solo aparecen una vez\n",
    "# Mantiene un orden\n",
    "conjunto = {1, 9, 3, 3}\n",
    "conjunto"
   ]
  },
  {
   "cell_type": "code",
   "execution_count": 55,
   "metadata": {},
   "outputs": [
    {
     "data": {
      "text/plain": [
       "{1, 2, 3, 4, 5}"
      ]
     },
     "execution_count": 55,
     "metadata": {},
     "output_type": "execute_result"
    }
   ],
   "source": [
    "# Union de conjuntos\n",
    "set1 = {1, 2, 3}\n",
    "set2 = {3, 4, 5}\n",
    "set1 | set2 "
   ]
  },
  {
   "cell_type": "code",
   "execution_count": 56,
   "metadata": {},
   "outputs": [
    {
     "data": {
      "text/plain": [
       "{3}"
      ]
     },
     "execution_count": 56,
     "metadata": {},
     "output_type": "execute_result"
    }
   ],
   "source": [
    "# Intersección de conjuntos\n",
    "set1 & set2"
   ]
  },
  {
   "cell_type": "code",
   "execution_count": 57,
   "metadata": {},
   "outputs": [
    {
     "data": {
      "text/plain": [
       "{1, 2}"
      ]
     },
     "execution_count": 57,
     "metadata": {},
     "output_type": "execute_result"
    }
   ],
   "source": [
    "# Diferencia de conjuntos\n",
    "set1 - set2"
   ]
  },
  {
   "cell_type": "code",
   "execution_count": 58,
   "metadata": {},
   "outputs": [
    {
     "data": {
      "text/plain": [
       "3"
      ]
     },
     "execution_count": 58,
     "metadata": {},
     "output_type": "execute_result"
    }
   ],
   "source": [
    "# Longitud\n",
    "len(set1)"
   ]
  },
  {
   "cell_type": "code",
   "execution_count": 60,
   "metadata": {},
   "outputs": [
    {
     "data": {
      "text/plain": [
       "False"
      ]
     },
     "execution_count": 60,
     "metadata": {},
     "output_type": "execute_result"
    }
   ],
   "source": [
    "# Comprobar si un elemento esta en un conjunto\n",
    "4 in set1"
   ]
  },
  {
   "cell_type": "code",
   "execution_count": 62,
   "metadata": {},
   "outputs": [
    {
     "data": {
      "text/plain": [
       "{1, 3, 9, 20}"
      ]
     },
     "execution_count": 62,
     "metadata": {},
     "output_type": "execute_result"
    }
   ],
   "source": [
    "# Añadir elemento\n",
    "conjunto.add(20)\n",
    "conjunto"
   ]
  },
  {
   "cell_type": "code",
   "execution_count": null,
   "metadata": {},
   "outputs": [],
   "source": [
    "#Eliminar elemento\n",
    "conjunto.remove(20)\n",
    "conjunto"
   ]
  },
  {
   "cell_type": "markdown",
   "metadata": {},
   "source": [
    "## **VARIABLES GLOBALES Y LOCALES**"
   ]
  },
  {
   "cell_type": "code",
   "execution_count": null,
   "metadata": {},
   "outputs": [
    {
     "name": "stdout",
     "output_type": "stream",
     "text": [
      "15\n"
     ]
    }
   ],
   "source": [
    "x= 10 # Variable global\n",
    "def mi_función():\n",
    "\ty = 5 # Variable local\n",
    "\tprint (x+y)\n",
    "  \n",
    "mi_función()"
   ]
  },
  {
   "cell_type": "markdown",
   "metadata": {},
   "source": [
    "## **FUNCION INPUT Y PRINT**"
   ]
  },
  {
   "cell_type": "code",
   "execution_count": 2,
   "metadata": {},
   "outputs": [
    {
     "name": "stdout",
     "output_type": "stream",
     "text": [
      "Nombre: Dar Edad: 24\n"
     ]
    }
   ],
   "source": [
    "nombre = input(\"Ingrese su nombre: \")\n",
    "year = int(input(\"Ingrese su año de nacimiento: \"))\n",
    "#print(\"Nombre:\", nombre,\", Edad:\", 2024-year)\n",
    "print(f\"Nombre: {nombre} Edad: {2024-year}\")\n",
    "#print(\"Nombre:\", nombre,\", Edad:\", 2024-year, sep=\"-\", end=\"##$$\")"
   ]
  },
  {
   "cell_type": "markdown",
   "metadata": {},
   "source": [
    "## **FUNCIONES EN PYTHON**"
   ]
  },
  {
   "cell_type": "code",
   "execution_count": 65,
   "metadata": {},
   "outputs": [
    {
     "data": {
      "text/plain": [
       "5"
      ]
     },
     "execution_count": 65,
     "metadata": {},
     "output_type": "execute_result"
    }
   ],
   "source": [
    "def función(parámetro1, parámetro2):\n",
    "\tres = parámetro1 + parámetro2\n",
    "\treturn res\n",
    "\n",
    "función(2, 3)"
   ]
  },
  {
   "cell_type": "code",
   "execution_count": 69,
   "metadata": {},
   "outputs": [
    {
     "name": "stdout",
     "output_type": "stream",
     "text": [
      "Hola amigo, Juan!\n"
     ]
    }
   ],
   "source": [
    "def saludar (nombre, saludo):\n",
    "\tprint(f\"{saludo}, {nombre}!\")\n",
    "  \n",
    "saludar(\"Juan\", \"Hola amigo\")"
   ]
  },
  {
   "cell_type": "code",
   "execution_count": 70,
   "metadata": {},
   "outputs": [
    {
     "name": "stdout",
     "output_type": "stream",
     "text": [
      "Hola mijin, Juan!\n"
     ]
    }
   ],
   "source": [
    "# Parámetros predeterminados\n",
    "def saludar (nombre, saludo=\"Hola mijo\"):\n",
    "\tprint(f\"{saludo}, {nombre}!\")\n",
    "  \n",
    "saludar(\"Juan\")"
   ]
  },
  {
   "cell_type": "code",
   "execution_count": 1,
   "metadata": {},
   "outputs": [
    {
     "name": "stdout",
     "output_type": "stream",
     "text": [
      "Mis frutas favoritas son: ('manzana', 'banana', 'cereza')\n"
     ]
    }
   ],
   "source": [
    "# Parámetros arbitrarios\n",
    "# *: El asterisco indica que puede tomar varios parámetros la función\n",
    "def frutas(*args): \n",
    "\tprint(\"Mis frutas favoritas son:\", args)\n",
    "  \n",
    "frutas(\"manzana\", \"banana\", \"cereza\")"
   ]
  },
  {
   "cell_type": "code",
   "execution_count": 2,
   "metadata": {},
   "outputs": [
    {
     "name": "stdout",
     "output_type": "stream",
     "text": [
      "Perfil del usuario: {'nombre': 'Carlos', 'edad': 27, 'ciudad': 'Quito'}\n"
     ]
    }
   ],
   "source": [
    "# Parámetros de palabras clave arbitrarios\n",
    "# **: El doble asterisco se usa para pasar los parámetros en formato clave valor\n",
    "# **kwargs es un parámetro que empaqueta una cantidad variable de argumentos de palabra clave en un diccionario.\n",
    "def usuario(**kwargs): \n",
    "\tprint(\"Perfil del usuario:\", kwargs)\n",
    "  \n",
    "usuario(nombre = \"Carlos\", edad = 27, ciudad = \"Quito\")"
   ]
  },
  {
   "cell_type": "code",
   "execution_count": 1,
   "metadata": {},
   "outputs": [
    {
     "name": "stdout",
     "output_type": "stream",
     "text": [
      "Hola Señor Alex Smith Python "
     ]
    }
   ],
   "source": [
    "def hola(**kwargs): #**kwargs puede tener culaquier etiqueta \n",
    "\tprint(\"Hola\", end=' ')\n",
    "\tfor clave, valor in kwargs.items():\n",
    "\t\tprint(valor, end=' ')\n",
    "\n",
    "hola(titulo=\"Señor\", nombre=\"Alex\", apellido=\"Smith\", segundo_nombre=\"Python\")"
   ]
  },
  {
   "cell_type": "code",
   "execution_count": 7,
   "metadata": {},
   "outputs": [
    {
     "data": {
      "text/plain": [
       "(12, 6, 27, 3.0)"
      ]
     },
     "execution_count": 7,
     "metadata": {},
     "output_type": "execute_result"
    }
   ],
   "source": [
    "# Funciones que devuelven múltiples valores en formato Tupla\n",
    "def operaciones(a, b):\n",
    "\tsuma = a+b\n",
    "\tresta = a-b\n",
    "\tproducto = a*b\n",
    "\tdivision=a/b\n",
    "\treturn suma, resta, producto, division\n",
    "\n",
    "operaciones(9, 3)"
   ]
  },
  {
   "cell_type": "code",
   "execution_count": 8,
   "metadata": {},
   "outputs": [
    {
     "data": {
      "text/plain": [
       "20"
      ]
     },
     "execution_count": 8,
     "metadata": {},
     "output_type": "execute_result"
    }
   ],
   "source": [
    "# Se puede separar cada resultado de la tupla\n",
    "suma, resta, producto, division = operaciones(16, 4)\n",
    "suma"
   ]
  },
  {
   "cell_type": "code",
   "execution_count": 9,
   "metadata": {},
   "outputs": [
    {
     "data": {
      "text/plain": [
       "12"
      ]
     },
     "execution_count": 9,
     "metadata": {},
     "output_type": "execute_result"
    }
   ],
   "source": [
    "resta"
   ]
  },
  {
   "cell_type": "code",
   "execution_count": 10,
   "metadata": {},
   "outputs": [
    {
     "data": {
      "text/plain": [
       "64"
      ]
     },
     "execution_count": 10,
     "metadata": {},
     "output_type": "execute_result"
    }
   ],
   "source": [
    "producto"
   ]
  },
  {
   "cell_type": "code",
   "execution_count": 11,
   "metadata": {},
   "outputs": [
    {
     "data": {
      "text/plain": [
       "4.0"
      ]
     },
     "execution_count": 11,
     "metadata": {},
     "output_type": "execute_result"
    }
   ],
   "source": [
    "division"
   ]
  },
  {
   "cell_type": "code",
   "execution_count": null,
   "metadata": {},
   "outputs": [],
   "source": [
    "# Funciones que devuelven múltiples valores en formato Diccionario\n",
    "def operaciones(a, b):\n",
    "\tsuma = a+b\n",
    "\tresta = a-b\n",
    "\tproducto = a*b\n",
    "\tdivision=a/b\n",
    "\treturn {'suma':suma, 'resta': resta, 'producto':producto, 'division':division}\n",
    "\n",
    "R=operaciones(9, 3)"
   ]
  },
  {
   "cell_type": "code",
   "execution_count": 14,
   "metadata": {},
   "outputs": [
    {
     "data": {
      "text/plain": [
       "12"
      ]
     },
     "execution_count": 14,
     "metadata": {},
     "output_type": "execute_result"
    }
   ],
   "source": [
    "R['suma']"
   ]
  },
  {
   "cell_type": "code",
   "execution_count": 1,
   "metadata": {},
   "outputs": [
    {
     "data": {
      "text/plain": [
       "(12, 6, 27, 3.0)"
      ]
     },
     "execution_count": 1,
     "metadata": {},
     "output_type": "execute_result"
    }
   ],
   "source": [
    "# Funciones que devuelven múltiples valores pasando datos empaquetados n,m\n",
    "def operaciones(a, b):\n",
    "\tsuma = a+b\n",
    "\tresta = a-b\n",
    "\tproducto = a*b\n",
    "\tdivision=a/b\n",
    "\treturn suma, resta, producto, division\n",
    "\n",
    "n,m = 9,3 # Datos empaquetados\n",
    "operaciones(n,m)"
   ]
  }
 ],
 "metadata": {
  "kernelspec": {
   "display_name": "Python 3",
   "language": "python",
   "name": "python3"
  },
  "language_info": {
   "codemirror_mode": {
    "name": "ipython",
    "version": 3
   },
   "file_extension": ".py",
   "mimetype": "text/x-python",
   "name": "python",
   "nbconvert_exporter": "python",
   "pygments_lexer": "ipython3",
   "version": "3.13.0"
  }
 },
 "nbformat": 4,
 "nbformat_minor": 2
}
