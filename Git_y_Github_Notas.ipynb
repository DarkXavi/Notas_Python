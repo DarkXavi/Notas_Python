{
 "cells": [
  {
   "cell_type": "markdown",
   "metadata": {},
   "source": [
    "<center> <h1> <b> GIT </b> </h1> </center>"
   ]
  },
  {
   "cell_type": "markdown",
   "metadata": {},
   "source": [
    "GIT: Sirve para administrar versiones de un proyecto.\n",
    "\n",
    "Su estructura se divide en 4 componentes:  \n",
    "\n",
    "*AREA DE TRABAJO (LOCAL) --> AREA DE PREPARACIÓN --> REPOSITORIO (LOCAL) --> REPOSITORIO REMOTO (SERVIDOR GITHUB)*"
   ]
  },
  {
   "cell_type": "markdown",
   "metadata": {},
   "source": [
    "## **Algunos Comandos de Consola.**\n",
    "**cd nombre_carpeta**: Avanza directorio.  \n",
    "**cd../**: Retrocede directorio.  \n",
    "**ls**: Listar archivos.  \n",
    "**ls -a**: Ver archivos ocultos.  \n",
    "**mkdir nombre_archivo**: Crea una nueva carpeta.  \n",
    "**rmdir nombre_archivo**: Eliminar carpeta."
   ]
  },
  {
   "cell_type": "markdown",
   "metadata": {},
   "source": [
    "## **Configuraciones Iniciales.**\n",
    "### **Configurar Usuario y Email.**\n",
    "Se recomienda ingresar con el usuario y email registrado en la cuenta de GITHUB.\n",
    "\n",
    "**Configurar usuario**: git config --global user.name ingresar-nombre-usuario\n",
    "\n",
    "**Configurar email**: git config --global user.email ingresar-email-usuario  \n",
    "\n",
    "### **Ver Lista de Configuraciones.**\n",
    "  **git config --list**\n",
    "\n",
    "### **Configurar Editor VSCODE.**\n",
    "  **git config --global core.editor code --wait**\n",
    "\n",
    "### **Configurar Colores de GUI BASH.**\n",
    "  **git config --global color.ui true**\n",
    "\n",
    "### **Configurar Salto de Linea.**\n",
    "Windows: **git config --global core.autocrlf true**\n",
    "\n",
    "Linux/Mac: **git config --global core.autocrlf input**"
   ]
  },
  {
   "cell_type": "markdown",
   "metadata": {},
   "source": [
    "## **Inicializar GIT.**\n",
    "Para inicializar GIT, se debe abrir GIT BASH y navegar hasta la carpeta del repositorio del proyecto.  \n",
    "O navegar hasta el repositorio, dar click derecho y seleccionar GIT BASH.\n",
    "\n",
    "Una vez dentro de escribe la sentencia: **git init** "
   ]
  },
  {
   "cell_type": "markdown",
   "metadata": {},
   "source": [
    "## **Limpiar Pantalla.**\n",
    "**clear** "
   ]
  },
  {
   "cell_type": "markdown",
   "metadata": {},
   "source": [
    "## **Subir Archivos al Area de Preparación.**\n",
    "Para subir varios archivos de una sola vez (Se usa si se esta seguro de que los archivos a subir no tengan información de relevancia como contraseñas o información delicada): **git add .**\n",
    "\n",
    "Para subir uno o varios archivos: **git add nombre_archivo1 nombre_archivo2 ... etc**"
   ]
  },
  {
   "cell_type": "markdown",
   "metadata": {},
   "source": [
    "## **Ver Estado de los Archivos.**\n",
    "Estado completo: **git status**\n",
    "\n",
    "Estado resumido: **git status -s**"
   ]
  },
  {
   "cell_type": "markdown",
   "metadata": {},
   "source": [
    "## **Remover Archivos del Area de Preparación**\n",
    "**git rm --cached nombre_archivo1 nombre_archivo2 ... etc**"
   ]
  },
  {
   "cell_type": "markdown",
   "metadata": {},
   "source": [
    "## **Subir Archivos al Repositorio Local.**\n",
    "Sube al repositorio los archivos que estén previamente en el Area de Preparación: **git commit -m \"mensaje_detallado_de_commit\"**\n",
    "\n",
    "Sube directamente al repositorio archivos sin estar en el Area de Preparación: **git commit -m \"mensaje_detallado_de_commit\" -a**  \n",
    "\n",
    "Ej: git commit -m \"optimización_interfaz_usuario_login\" -a"
   ]
  },
  {
   "cell_type": "markdown",
   "metadata": {},
   "source": [
    "## **Mostrar Información de los Commit.**\n",
    "Indica toda la información: **git log**\n",
    "\n",
    "Resume la información en una linea: **git log --oneline -all**\n",
    "\n",
    "Gráfico: **git log --oneline -all --graph**"
   ]
  },
  {
   "cell_type": "markdown",
   "metadata": {},
   "source": [
    "## **Ver Archivos de un Commit.**\n",
    "Indica los archivos: **git ls-tree -r id_commit**\n",
    "\n",
    "Indica solo el nombre del archivo: **git ls-tree -r --name-only id_commit**"
   ]
  },
  {
   "cell_type": "markdown",
   "metadata": {},
   "source": [
    "## **Cambiar la Cantidad del Hash (id) del Commit.**\n",
    "En este caso solo se quiere que muestre 5 caracteres del Hash (id) del commit.  \n",
    "**git config --global core.abbrev 5**"
   ]
  },
  {
   "cell_type": "markdown",
   "metadata": {},
   "source": [
    "## **Eliminar Archivo Una Vez Subido al Repositorio.**\n",
    "**rm nombre_archivo**  \n",
    "Si se desea notificar que se elimino un archivo se debe agregar la eliminación con **git add** y luego hacer el **commit**. "
   ]
  },
  {
   "cell_type": "markdown",
   "metadata": {},
   "source": [
    "## **Restaurar Archivo del Area de Preparación.**\n",
    "Si el archivo eliminado se encuentra en el Area de Preparación (verificar su estado mediante **git status**) se lo puede recuperar mediante la sentencia: **git restore nombre_archivo**."
   ]
  },
  {
   "cell_type": "markdown",
   "metadata": {},
   "source": [
    "## **Volver al Ultimo Punto de Guardado.**\n",
    "***El archivo NO esta en el Area de Preparación.***  \n",
    "Si se modifica un archivo se puede restaurar este archivo a la ultima versión guardada mediante un commit. Para ello primero se verifica el estado mediante un **git status** y luego se usa **git checkout nombre__archivo**  \n",
    "\n",
    "***El archivo SI está en el Area de Preparación.***  \n",
    "Ahora, si el archivo se subió al Area de Preparación se puede volver a una versión anterior usando **git reset --hard**  \n",
    "**reset --hard**: Restaura todos los archivos a la versión del ultimo commit y elimina todo lo que estaba en el Area de Preparación."
   ]
  },
  {
   "cell_type": "markdown",
   "metadata": {},
   "source": [
    "## **Mostrar Contenido de Archivo.**\n",
    "Para visualizar el contenido del archivo, se lo puede hacer después de haber echo un commit.\n",
    "**git show nombre_archivo**"
   ]
  },
  {
   "cell_type": "markdown",
   "metadata": {},
   "source": [
    "## **Diferencias Entre Versiones de un Mismo Archivo.**\n",
    "**git diff --sataged**  \n",
    "Muestra la diferencia entre el contenido del archivo después del commit y el mismo archivo modificado que se encuentra en el Area de Preparación."
   ]
  },
  {
   "cell_type": "markdown",
   "metadata": {},
   "source": [
    "## **Diferencias Entre Commits.**\n",
    "**git diff id_commit_1 id_commit_2**  \n",
    "Para solo mostrar los nombres y la diferencia: **git diff --name-only id_commit_1 id_commit_2**\n",
    "\n",
    "Para solo mostrar las lineas diferentes: **git diff --word-dif id_commit_1 id_commit_2**"
   ]
  },
  {
   "cell_type": "markdown",
   "metadata": {},
   "source": [
    "## **Modificar Ultimo Commit.**\n",
    "La sentencia **git commit --amend** reemplaza al ultimo commit con el commit que contiene un archivo nuevo o modificado.\n",
    "\n",
    "Como primer paso hay que subir el archivo nuevo o editado al Area de Preparación con **git add** y luego escribir **git commit --amend** para reemplazar el commit anterior con el nuevo commit.\n",
    "\n",
    "Al ejecutar la sentencia se abre el editor de texto, en donde se debe ingresar la descripción del nuevo commit, guardar y cerrar el archivo.\n",
    "\n",
    "Así el ultimo commit se reemplaza por el commit recién ingresado."
   ]
  },
  {
   "cell_type": "markdown",
   "metadata": {},
   "source": [
    "## **Eliminar Commit.**\n",
    "Para poder eliminar un commit se debe escribir Hash (Id) del commit anterior.\n",
    "\n",
    "Hay tres formas para poder eliminar un commit:  \n",
    "- SOFT: **git reset --soft Id_commit_anterior** (Elimina el commit y envía lo que tenía el commit eliminado al Area de Preparación).\n",
    "- MIXED: **git reset --mixed Id_commit_anterior** (Elimina el commit y limpia el Area de Preparación).\n",
    "- HARD: **git reset --hard Id_commit_anterior** (Elimina el commit descartando todos los cambios y actualizando el editor con el contenido del commit anterior sobrescribiendo el contenido)."
   ]
  },
  {
   "cell_type": "markdown",
   "metadata": {},
   "source": [
    "## **Manejo de Ramas (Branches).**\n",
    "La rama principal se llama **master** o **main**.\n",
    "### **Mostar Ramas.**\n",
    "**git branch**\n",
    "\n",
    "### **Crear una Nueva Rama.**\n",
    "**git branch nombre-rama-nueva**  \n",
    "**Nota:** El nombre de la rama se debe escribir en letras minúsculas y separado por un guión.  \n",
    "\n",
    "### **Navegar en Ramas.**\n",
    "**git switch nombre-rama**  \n",
    "\n",
    "### **Crear y Ubicar en Rama Nueva.**\n",
    "**git switch -c nombre_rama_nueva**\n",
    "\n",
    "### **Borrar Rama.**\n",
    "Se debe salir o estar en otra rama para poderla eliminar y escribir **git branch -d nombre-rama**\n",
    "\n",
    "### **Renombrar Rama.**\n",
    "Estando **FUERA** de la rama se usa: **git branch -m nombre-anterior-rama nombre-nuevo-rama**\n",
    "\n",
    "Estando **DENTRO** de la rama se usa: **git branch -m nombre-nuevo-rama**"
   ]
  },
  {
   "cell_type": "markdown",
   "metadata": {},
   "source": [
    "## **Fusionar Commits de Ramas Diferentes.**\n",
    "Se debe estar en la rama a la cual se va a fusionar los commits de la otra rama.\n",
    "\n",
    "Se usa: **git merge nombre_rama_a_fusionar**\n",
    "\n",
    "Si se desea volver al estado antes de fusionar se usa **git reset --hard id_commit**"
   ]
  },
  {
   "cell_type": "markdown",
   "metadata": {},
   "source": [
    "## **Conflictos de Fusionar Ramas.**\n",
    "Se tiene dos ramas, la rama Master y una rama que se desprende de la rama Master creando así una copia de la versión de la rama original, si se modifica la rama Master después de haber creado la nueva rama, al final del proceso al fusionar las ramas surge un conflicto.\n",
    "\n",
    "El conflicto resultante se muestra en el editor de texto, en el cual se indica la posición del conflicto, el estado de la rama actual (current change) y el estado de la nueva rama (incoming change).\n",
    "\n",
    "Para corregir el conflicto se indica cuatro opciones:\n",
    "- **Accept Current Change**: Acepta el contenido de la rama principal.\n",
    "- **Accept Incoming Change**: Acepta el contenido de la nueva rama.\n",
    "- **Accept Both Changes**: Fusiona el contenido de la rama principal y la nueva rama.\n",
    "- **Compare Changes**: Compara entre las opciones.\n",
    "\n",
    "Se puede usar el **MERGE EDITOR** para visualizar y elegir la mejor opción para resolver el conflicto.  \n",
    "Una vez seleccionado la opción, en la interfaz de GUI BASH se escribe **git merge --continue**\n"
   ]
  },
  {
   "cell_type": "markdown",
   "metadata": {},
   "source": [
    "## **Git Ignore. (Ignorar archivos).**\n",
    "Es un archivo con extension **.gitignore** en el cual se puede escribir los archivos que se desea ignorar antes de subir al repositorio. Por ejemplo archivos: \n",
    "- **nombre_archivo.txt**\n",
    "- **nombre_carpeta /** (Ignora un directorio).\n",
    "- __*.txt__ (Ignora todos los archivos con extensión txt).\n",
    "- __*.png__ (Ignora todos los archivos con extensión png).\n",
    "- __*).txt__ (Ignora archivos que terminen en paréntesis y con extensión txt).\n",
    "\n",
    "**!! No se puede ignorar archivos que ya se hayan subido al repositorio !!**\n",
    "\n",
    "Se puede crear un archivo **.gitignore_global** de forma global, donde el archivo **.gitignore** local tiene mayor prioridad que el archivo **.gitignore_global** global.\n",
    "\n",
    "Para usar el archivo global se debe configurar de la siguiente manera: **git config --global core. excludesfile ruta-del-archivo**"
   ]
  },
  {
   "cell_type": "markdown",
   "metadata": {},
   "source": [
    "## **Git Alias.**\n",
    "Se usa para guardar un comando extenso y poderlo usar mediante un alias.\n",
    "**git config --global alias.nombre_alias \"escribir comando\"**"
   ]
  },
  {
   "cell_type": "markdown",
   "metadata": {},
   "source": [
    "## **Git Reflog. (Registro de Commits).**\n",
    "Lleva ub registro de todos los commit donde el puntero Head se posicionó.\n",
    "\n",
    "Se usa para recuperar un commit eliminado con **git reset --hard id_commit**\n",
    "\n",
    "Si no se tiene el id del commit se usa **git reflog**, se sale con **q** y se recupera el commit con **git reset --hard id_commit**"
   ]
  },
  {
   "cell_type": "markdown",
   "metadata": {},
   "source": [
    "<center> <h1> <b> GITHUB </b> </h1> </center>"
   ]
  },
  {
   "cell_type": "markdown",
   "metadata": {},
   "source": [
    "## **Crear y Configurar un Nuevo Repositorio.**\n",
    "Se selecciona el icono de GitHub (Gato), \"Crear repositorio\", ingresar el nombre en minúsculas y separado por un guión.\n",
    "\n",
    "Se añade una descripción, seleccionar Publico o Privado, opcional añadir archivo Readme.md y \"Crear Repositorio\".\n",
    "\n",
    "Si se agrego el archivo Readme.md se lo puede modificar mediante markdown."
   ]
  },
  {
   "cell_type": "markdown",
   "metadata": {},
   "source": [
    "## **Git Remote.**\n",
    "\n",
    "**git remote -v**: Muestra hacia donde apunta el repositorio local (origin) hacia los repositorios remotos y los procesos que se puede realizar (fetch y push)."
   ]
  },
  {
   "cell_type": "markdown",
   "metadata": {},
   "source": [
    "## **Subir Archivos al Repositorio.**\n",
    "Seleccionar \"Add File\", \"Upload Files\" y arrastrar o seleccionar los archivos o carpetas a subir y \"Commit Changes\"."
   ]
  },
  {
   "cell_type": "markdown",
   "metadata": {},
   "source": [
    "## **Git Clone. (Clonar un Repositorio).**\n",
    "Clonar un repositorio remoto de Github al repositorio local.\n",
    "\n",
    "### **Opción HTTPS.**\n",
    "Dentro del repositorio de Github, seleccionar \"<> Code\", seleccionar \"HTTPS\" y copiar enlace. \n",
    "\n",
    "Abrir GIT BASH y pegar enlace copiado. \n",
    "\n",
    "Esta opción descarga todo el histórico, es decir descarga el repositorio con todos los commits y ramas existentes.\n",
    "\n",
    "### **Opción SSH.**\n",
    "Dentro del repositorio de Github, seleccionar \"<> Code\", seleccionar \"SSH\" y copiar enlace. \n",
    "\n",
    "Abrir GIT BASH y pegar enlace copiado.\n",
    "\n",
    "Si se aumenta **--depth=1** al final del enlace copiado se descarga el histórico hasta el ultimo commit. Esto se recomienda hacerlo si no se necesita información del histórico completo del repositorio.\n",
    "\n",
    "### **Opción GitHub CLI.**\n",
    "Dentro del repositorio de Github, seleccionar \"<> Code\", seleccionar \"GitHub CLI\" y copiar sentencia. \n",
    "\n",
    "Abrir GIT BASH escribir y pegar enlace_copiado.\n",
    "\n",
    "A diferencia de las anteriores opciones, en esta opción después de realizar un **git remote -v** se puede observar el repositorio local (original) el cual apunta a nuestro repositorio de GitHub, y el repositorio del propietario (upstream) del cual se descargo el proyecto.\n",
    "\n",
    "Esta opción nos ayuda a **sincronizar directamente** los cambios realizados por el propietario haciendo un **fetch** de upstream."
   ]
  },
  {
   "cell_type": "markdown",
   "metadata": {},
   "source": [
    "## **Git Remote. (Añadir un Repositorio Remoto).**\n",
    "Entrar a GitHub seleccionar \"<> Code\", seleccionar \"SSH\" y copiar enlace. \n",
    "\n",
    "En GIT BASH escribir: **git remote add nombre_repositorio pegar_enlace_copiado**"
   ]
  },
  {
   "cell_type": "markdown",
   "metadata": {},
   "source": [
    "## **Git Push. (Subir Archivos del Repositorio Local al Repositorio Remoto).**\n",
    "Para ello se configura el usuario y email con los mismos datos de la cuenta de Github.\n",
    "\n",
    "Sentencia: **git push -u origin master**\n",
    "\n",
    "**origin**: Este es un nombre asignado al repositorio después de hacer **git clone**, si se hace un **git remote add** se puede asignar cualquier nombre.\n",
    "\n",
    "Para hacer el **git push** hay que revisar y tener en cuenta el nombre del repositorio.\n",
    "\n",
    "**master**: Rama principal del repositorio.\n",
    "\n",
    "Al ejecutar la sentencia se abre una ventana donde se debe iniciar session en Github (si es el caso), luego de ingresar, seleccionar TOKEN o la opción que se prefiera. En este caso seleccionar TOKEN.\n",
    "\n",
    "Para obtener el TOKEN, entrar al perfil de Github, \"Settings\", \"<> Developer Settings\", \"Personal access tokens\", \"Generate a personal access token\", añadir una nota, escoger 30 días (dependiente del proyecto), marcar opciones de \"repo\", las demás opciones marcarlas dependiendo del proyecto, \"Generate token\".\n",
    "\n",
    "Una vez generado el TOKEN, copiarlo, pegar en la ventana y \"Ok\"."
   ]
  },
  {
   "cell_type": "markdown",
   "metadata": {},
   "source": [
    "## **Git Pull. (Actualizar Repositorio Local con Archivos del Repositorio Remoto).**\n",
    "Baja los archivos del servidor de Github y actualiza (fusiona) la rama del repositorio local.\n",
    "\n",
    "Usar: **git pull** ó **git pull origin master**\n",
    "\n",
    "**origin**: Para hacer el **git pull** hay que revisar y tener en cuenta el nombre del repositorio en este caso es **origin**, si hay más repositorios escribir el nombre del repositorio a actualizar.\n",
    "\n",
    "**master**: Nombre de la rama principal del repositorio remoto de la cual se bajarán los archivos al repositorio local.\n",
    "\n",
    "Si el repositorio remoto fue modificado después de bajar una versión al repositorio local, en el repositorio local no se tendrá los nuevos cambios realizados por lo que al actualizar el repositorio local y subir al repositorio remoto se puede presentar conflictos. "
   ]
  },
  {
   "cell_type": "markdown",
   "metadata": {},
   "source": [
    "## **Git Fetch. (Actualizar Repositorio Local con Archivos del Repositorio Remoto Revisando los Cambios).**\n",
    "Es el primer paso que hace el **git pull**, es decir, no actualiza las ramas automáticamente, se puede revisar los cambios.\n",
    "\n",
    "Usar : **git fetch**\n",
    "\n",
    "Al usar la sentencia **git fetch** se crea una rama temporal que permite ver los cambios. Para ello se debe navegar hasta la rama donde indica los cambios comúnmente se usa **git switch --detach origin/master** y se visualiza en el editor los cambios.\n",
    "\n",
    "Si el cambio realizado es valido, se vuelve a la rama master **git switch master** y usar **git pull**, si existen conflictos solucionarlos con el editor y guardarlos seleccionando \"Commit\" en el editor.\n"
   ]
  },
  {
   "cell_type": "markdown",
   "metadata": {},
   "source": [
    "## **Migrar Repositorio Local a un Nuevo Repositorio Remoto.**\n",
    "Entrar en Github, crear un nuevo repositorio, una vez creado, bajar hasta la opción **\"... or push an existing repository from the command line\"**, copiar los pasos y pegar en GIT BASH. \n",
    "\n",
    "Usando **git remote -v ** se muestra las opciones que se puede realizar en el repositorio remoto. \n",
    "\n",
    "Al usar **git push -u origin master (ó main)** se configura automáticamente para cuando se haga **push** se haga directamente en la rama origin master(ó main)"
   ]
  },
  {
   "cell_type": "markdown",
   "metadata": {},
   "source": [
    "## **Fork. (Clonar Repositorio Remoto en Cuenta Propia de Github).**\n",
    "Clona un repositorio directamente a la cuenta propia de Github. Se lo hace entrando en el proyecto de Github de otro usuario, en la parte derecha seleccionar el icono de lápiz, \"Fork\", \"Fork this repository\", \"Commit Changes\"."
   ]
  },
  {
   "cell_type": "markdown",
   "metadata": {},
   "source": [
    "## **Pull Request. (Notificar al Propietario del Repositorio Si Desea Adjuntar Nuestros Cambios).**\n",
    "Al clonar un repositorio de otro usuario se puede realizar modificaciones en el repositorio local que puedan contribuir a mejorar el proyecto, una vez hechas las modificaciones se lo sube al repositorio y se puede hacer un **pull request** para notificarle al propietario que se han realizado cambios y si desea fusionarlo a su proyecto.\n",
    "\n",
    "Para hacer el **pull request** se entra al proyecto clonado en nuestro GitHub, \"Contribute\", \"Open pull request\", verificar si hay una fusión exitosa con los cambios, \"Create pull request\", insertar un titulo y una descripción y finalizar en \"Create pull request\"."
   ]
  }
 ],
 "metadata": {
  "language_info": {
   "name": "python"
  }
 },
 "nbformat": 4,
 "nbformat_minor": 2
}
