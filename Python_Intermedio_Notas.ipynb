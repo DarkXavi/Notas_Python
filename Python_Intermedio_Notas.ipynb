{
 "cells": [
  {
   "cell_type": "markdown",
   "metadata": {},
   "source": [
    "## **COMPRESION DE LISTAS**"
   ]
  },
  {
   "cell_type": "code",
   "execution_count": 6,
   "metadata": {},
   "outputs": [
    {
     "name": "stdout",
     "output_type": "stream",
     "text": [
      "[2, 4, 6, 8]\n"
     ]
    }
   ],
   "source": [
    "# [nueva expresión for elemento in iterable if condicion]\n",
    "# Pares\n",
    "lista = list(range(1,10))\n",
    "\n",
    "pares = [i for i in lista if i % 2 == 0]\n",
    "print(pares)\n"
   ]
  },
  {
   "cell_type": "code",
   "execution_count": 7,
   "metadata": {},
   "outputs": [
    {
     "name": "stdout",
     "output_type": "stream",
     "text": [
      "[0, 4, 16, 36, 64]\n"
     ]
    }
   ],
   "source": [
    "# Cuadrados pares\n",
    "cuadrados = [x**2 for x in range(10) if x % 2 == 0]\n",
    "print(cuadrados)"
   ]
  },
  {
   "cell_type": "code",
   "execution_count": null,
   "metadata": {},
   "outputs": [
    {
     "name": "stdout",
     "output_type": "stream",
     "text": [
      "[0, 1, 2, 3, 4, 5, 6]\n",
      "[1, 2, 3, 4, 5, 6, 7]\n",
      "[2, 4, 6, 8, 10, 12, 14]\n",
      "[6, 7, 8, 9, 10, 11, 12]\n"
     ]
    }
   ],
   "source": [
    "my_list = [i for i in range(7)]\n",
    "print(my_list)\n",
    "\n",
    "my_list1 = [i for i in range(1, 8)]\n",
    "print(my_list1)\n",
    "\n",
    "my_list2 = [i*2 for i in range(1, 8)]\n",
    "print(my_list2)\n",
    "\n",
    "def suma_cinco(num):\n",
    "    return num +5\n",
    "\n",
    "my_list3 = [suma_cinco(i) for i in range(1, 8)]\n",
    "print(my_list3)\n"
   ]
  },
  {
   "cell_type": "code",
   "execution_count": 2,
   "metadata": {},
   "outputs": [
    {
     "name": "stdout",
     "output_type": "stream",
     "text": [
      "[[0, 1, 4, 9], [0, 1, 4, 9], [0, 1, 4, 9], [0, 1, 4, 9]]\n"
     ]
    }
   ],
   "source": [
    "# Lista de Listas\n",
    "matriz = [[j**2 for j in range(4)] for i in range(4)]\n",
    "print(matriz)"
   ]
  },
  {
   "cell_type": "markdown",
   "metadata": {},
   "source": [
    "## **COMPRESION DE CONJUNTOS**"
   ]
  },
  {
   "cell_type": "code",
   "execution_count": 9,
   "metadata": {},
   "outputs": [
    {
     "name": "stdout",
     "output_type": "stream",
     "text": [
      "{0, 1, 64, 4, 36, 9, 16, 49, 81, 25}\n"
     ]
    }
   ],
   "source": [
    "# {nueva expresión for elemento in iterable if condicion}\n",
    "cuadrados_set = {x**2 for x in range(10)}\n",
    "print(cuadrados_set)"
   ]
  },
  {
   "cell_type": "markdown",
   "metadata": {},
   "source": [
    "## **COMPRESION DE DICCIONARIOS**"
   ]
  },
  {
   "cell_type": "code",
   "execution_count": 11,
   "metadata": {},
   "outputs": [
    {
     "name": "stdout",
     "output_type": "stream",
     "text": [
      "{1: 1, 2: 4, 3: 9, 4: 16, 5: 25, 6: 36, 7: 49, 8: 64, 9: 81}\n"
     ]
    }
   ],
   "source": [
    "# {clave : valor for elemento in iterable if condicion}\n",
    "cuadrados_dict = {x:x**2 for x in range(1, 10)}\n",
    "print(cuadrados_dict)"
   ]
  },
  {
   "cell_type": "markdown",
   "metadata": {},
   "source": [
    "## **FUNCION LAMBDA**"
   ]
  },
  {
   "cell_type": "code",
   "execution_count": null,
   "metadata": {},
   "outputs": [
    {
     "name": "stdout",
     "output_type": "stream",
     "text": [
      "11\n"
     ]
    }
   ],
   "source": [
    "# Funciones Lambda (pequeñas funciones anónimas)\n",
    "# Notación: lambda argumentos:expresión\n",
    "suma = lambda parametro1, parametro2 : parametro1 + parametro2\n",
    "print(suma(5, 6))"
   ]
  },
  {
   "cell_type": "code",
   "execution_count": null,
   "metadata": {},
   "outputs": [
    {
     "name": "stdout",
     "output_type": "stream",
     "text": [
      "11\n"
     ]
    }
   ],
   "source": [
    "def sum(value):\n",
    "    return lambda a, b : a + b + value\n",
    "\n",
    "print(sum(5)(2, 4))"
   ]
  },
  {
   "cell_type": "markdown",
   "metadata": {},
   "source": [
    "## **FUNCIONES DE ORDEN SUPERIOR**"
   ]
  },
  {
   "cell_type": "code",
   "execution_count": 7,
   "metadata": {},
   "outputs": [
    {
     "name": "stdout",
     "output_type": "stream",
     "text": [
      "8\n"
     ]
    }
   ],
   "source": [
    "def sumar_uno(num):\n",
    "    return num +1\n",
    "\n",
    "def sumar_dos_valore(num1, num2):\n",
    "    return sumar_uno(num1 + num2)\n",
    "\n",
    "print(sumar_dos_valore(5, 2))\n"
   ]
  },
  {
   "cell_type": "code",
   "execution_count": 8,
   "metadata": {},
   "outputs": [
    {
     "name": "stdout",
     "output_type": "stream",
     "text": [
      "12\n"
     ]
    }
   ],
   "source": [
    "def sumar_cinco(num):\n",
    "    return num +5\n",
    "\n",
    "def sumar_dos_valores_mas_cinco(num1, num2, fcinco):\n",
    "    return fcinco(num1 + num2)\n",
    "\n",
    "print(sumar_dos_valores_mas_cinco(5, 2, sumar_cinco))"
   ]
  },
  {
   "cell_type": "markdown",
   "metadata": {},
   "source": [
    "### **CLOSURES**"
   ]
  },
  {
   "cell_type": "code",
   "execution_count": 9,
   "metadata": {},
   "outputs": [
    {
     "name": "stdout",
     "output_type": "stream",
     "text": [
      "15\n"
     ]
    }
   ],
   "source": [
    "# Función que define una función y retorna una función\n",
    "def sum_diez():\n",
    "    def add(values):\n",
    "        return values + 10\n",
    "    return add\n",
    "\n",
    "func_add = sum_diez()\n",
    "print(func_add(5))"
   ]
  },
  {
   "cell_type": "code",
   "execution_count": 12,
   "metadata": {},
   "outputs": [
    {
     "name": "stdout",
     "output_type": "stream",
     "text": [
      "20\n",
      "16\n"
     ]
    }
   ],
   "source": [
    "def sum_diez(num):\n",
    "    def add(values):\n",
    "        return values + 10 + num\n",
    "    return add\n",
    "\n",
    "func_add = sum_diez(5)\n",
    "print(func_add(5))\n",
    "print(sum_diez(5)(1))\n"
   ]
  },
  {
   "cell_type": "markdown",
   "metadata": {},
   "source": [
    "### **MAP()**"
   ]
  },
  {
   "cell_type": "code",
   "execution_count": null,
   "metadata": {},
   "outputs": [
    {
     "name": "stdout",
     "output_type": "stream",
     "text": [
      "[1, 4, 9, 16, 25, 36]\n"
     ]
    }
   ],
   "source": [
    "# map(): recibe una función y una lista. Aplica la función a cada elemento de la lista\n",
    "lista = [1, 2, 3, 4, 5, 6]\n",
    "cuadrado = list(map(lambda x : x**2, lista))\n",
    "print(cuadrado)"
   ]
  },
  {
   "cell_type": "markdown",
   "metadata": {},
   "source": [
    "### **FILTER()**"
   ]
  },
  {
   "cell_type": "code",
   "execution_count": null,
   "metadata": {},
   "outputs": [
    {
     "name": "stdout",
     "output_type": "stream",
     "text": [
      "[2, 4, 6]\n"
     ]
    }
   ],
   "source": [
    "# filter(): función para filtrar\n",
    "lista = [1, 2, 3, 4, 5, 6]\n",
    "pares = list(filter(lambda x : x % 2 == 0, lista))\n",
    "print(pares)"
   ]
  },
  {
   "cell_type": "code",
   "execution_count": 14,
   "metadata": {},
   "outputs": [
    {
     "name": "stdout",
     "output_type": "stream",
     "text": [
      "[4, 5, 6]\n"
     ]
    }
   ],
   "source": [
    "lista = [1, 2, 3, 4, 5, 6]\n",
    "mayor = list(filter(lambda x: x > 3, lista))\n",
    "print(mayor)"
   ]
  },
  {
   "cell_type": "markdown",
   "metadata": {},
   "source": [
    "### **REDUCE()**"
   ]
  },
  {
   "cell_type": "code",
   "execution_count": 22,
   "metadata": {},
   "outputs": [
    {
     "name": "stdout",
     "output_type": "stream",
     "text": [
      "1\n",
      "2\n",
      "3\n",
      "3\n",
      "6\n",
      "4\n",
      "10\n",
      "5\n",
      "15\n",
      "6\n",
      "21\n"
     ]
    }
   ],
   "source": [
    "# reduce(): Operar entre los valores que va recorriendo y va operando con los valores que va teniendo en recorrido\n",
    "from functools import reduce\n",
    "\n",
    "lista = [1, 2, 3, 4, 5, 6]\n",
    "def sumar_dos(num1, num2):\n",
    "    print(num1)\n",
    "    print(num2)\n",
    "    return num1 + num2\n",
    "\n",
    "print(reduce(sumar_dos, lista))"
   ]
  },
  {
   "cell_type": "markdown",
   "metadata": {},
   "source": [
    "### **SORTED()**"
   ]
  },
  {
   "cell_type": "code",
   "execution_count": 15,
   "metadata": {},
   "outputs": [
    {
     "name": "stdout",
     "output_type": "stream",
     "text": [
      "['fresa', 'manzana', 'banana', 'cereza']\n"
     ]
    }
   ],
   "source": [
    "# sorted(): Ordena elementos de una lista según criterio de la función\n",
    "frutas = ['fresa', 'manzana', 'banana', 'cereza']\n",
    "orden = list(sorted(frutas, key = lambda fruta : len(frutas)))\n",
    "print(orden)"
   ]
  },
  {
   "cell_type": "markdown",
   "metadata": {},
   "source": [
    "## **EXCEPCIONES**"
   ]
  },
  {
   "cell_type": "code",
   "execution_count": null,
   "metadata": {},
   "outputs": [
    {
     "name": "stdout",
     "output_type": "stream",
     "text": [
      "An exception occurred\n",
      "El resultado es: 0.5\n",
      "Esto se ejecutará siempre al final\n"
     ]
    }
   ],
   "source": [
    "# Una excepción es un evento detectado durante la ejcución que interrumpe el flujo de un programa\n",
    "try:\n",
    "\tprint('An exception occurred')\n",
    "\tnumerador = int(input(\"Ingrese un número: \"))\n",
    "\tdenominador = int(input(\"Ingrese un número: \"))\n",
    "\n",
    "\tres = numerador / denominador\n",
    "# Par poder ver el tipo de error se ejecuta el programa y se ve el tipo de error. (Ej: ZeroDivisionError)\n",
    "except ZeroDivisionError as e: # e: Indica el mensaje de error\n",
    "\tprint(\"No se puede dividir entre 0\")\n",
    "\tprint(e)\n",
    "except ValueError as e:\n",
    "\tprint(\"Ingresa solo números\")\n",
    "\tprint(e)\n",
    "except Exception as e:\n",
    "\tprint(\"Algo salió mal\")\n",
    "\tprint(e)\n",
    "else:\n",
    "\tprint(\"El resultado es:\", res)\n",
    "finally:\n",
    "    print(\"Esto se ejecutará siempre\") "
   ]
  },
  {
   "cell_type": "markdown",
   "metadata": {},
   "source": [
    "## Algunas de las excepciones integradas más comunes en Python:\n",
    "\n",
    "1. **BaseException**: Es la clase base para todas las excepciones integradas. No está destinada a ser capturada directamente.\n",
    "2. **SystemExit**: Se lanza por la función `sys.exit()`.\n",
    "3. **KeyboardInterrupt**: Se lanza cuando el usuario interrumpe la ejecución del programa, generalmente presionando Ctrl+C.\n",
    "4. **Exception**: Casi todas las excepciones integradas heredan de esta clase. Es la clase base para las excepciones no relacionadas con el sistema.\n",
    "5. **StopIteration**: Se lanza por los iteradores para señalar que no quedan elementos.\n",
    "6. **ArithmeticError**: Base para errores en operaciones aritméticas. No se usa directamente, pero sí clases derivadas como:\n",
    "   - **ZeroDivisionError**: Se lanza cuando el divisor de una división es cero.\n",
    "   - **OverflowError**: Se lanza cuando el resultado de una operación aritmética es demasiado grande para ser representado.\n",
    "   - **FloatingPointError**: Se lanza cuando ocurre un error en una operación de punto flotante.\n",
    "7. **LookupError**: Base para errores de búsqueda. No se usa directamente, pero sí clases derivadas como:\n",
    "   - **IndexError**: Se lanza cuando un índice no es válido para una secuencia.\n",
    "   - **KeyError**: Se lanza cuando una clave no es válida para un diccionario.\n",
    "8. **NameError**: Se lanza cuando no se encuentra una variable local o global.\n",
    "9. **TypeError**: Se lanza cuando se aplica una operación o función a un objeto de tipo inapropiado.\n",
    "10. **ValueError**: Se lanza cuando una operación o función recibe un argumento con el tipo correcto pero valor inadecuado.\n",
    "11. **FileNotFoundError**: Se lanza cuando una operación de archivo falla porque no se pudo encontrar el archivo.\n",
    "12. **PermissionError**: Se lanza cuando una operación de archivo falla debido a problemas de permisos."
   ]
  },
  {
   "cell_type": "markdown",
   "metadata": {},
   "source": [
    "### **Expeciones Personalizadas**"
   ]
  },
  {
   "cell_type": "code",
   "execution_count": null,
   "metadata": {},
   "outputs": [],
   "source": [
    "class MiError(Exception):\n",
    "    \"\"\"Excepción personalizada que se lanza cuando ocurre 'X' error.\"\"\"\n",
    "    def __init__(self, mensaje):\n",
    "        self.mensaje = mensaje\n",
    "        super().__init__(self.mensaje)\n"
   ]
  },
  {
   "cell_type": "code",
   "execution_count": null,
   "metadata": {},
   "outputs": [
    {
     "name": "stdout",
     "output_type": "stream",
     "text": [
      "Error: El valor no puede ser negativo.\n"
     ]
    }
   ],
   "source": [
    "def verificar_valor(valor):\n",
    "    if valor < 0:\n",
    "        raise MiError(\"El valor no puede ser negativo.\")\n",
    "    else:\n",
    "        print(\"Valor válido:\", valor)\n",
    "\n",
    "# Intenta ejecutar la función con un valor inválido\n",
    "try:\n",
    "    verificar_valor(-10)\n",
    "except MiError as e:\n",
    "    print(\"Error:\", e)\n"
   ]
  },
  {
   "cell_type": "markdown",
   "metadata": {},
   "source": [
    "## **MANEJO DE ARCHIVOS**"
   ]
  },
  {
   "cell_type": "code",
   "execution_count": 5,
   "metadata": {},
   "outputs": [
    {
     "name": "stdout",
     "output_type": "stream",
     "text": [
      "Esa ubicación existe\n",
      "Es un archivo\n"
     ]
    }
   ],
   "source": [
    "# Detección de archivos\n",
    "import os\n",
    "path = 'C:\\\\Users\\\\DARIO\\\\Desktop\\\\Ejercicios PYTHON y SQL\\\\nuevo.txt' # Se usa doble barra invertida ruta de archivo\n",
    "#path = 'C:\\\\Users\\\\DARIO\\\\Desktop\\\\Photoshop Portable' # Se usa doble barra invertida ruta del directorio (carpeta)\n",
    "\n",
    "#Verificar si ubicación existe\n",
    "if os.path.exists(path):\n",
    "    print(\"Esa ubicación existe\")\n",
    "    # Verificar si es archivo o directorio (carpeta)\n",
    "    if os.path.isfile(path):\n",
    "        print(\"Es un archivo\")\n",
    "    elif os.path.isdir(path):\n",
    "        print(\"Es un directorio (carpeta)\")\n",
    "else:\n",
    "    print(\"Esa ubicación NO existe\")"
   ]
  },
  {
   "cell_type": "code",
   "execution_count": null,
   "metadata": {},
   "outputs": [],
   "source": [
    "# Leer contenido de archivo\n",
    "# Si el archivo no esta dentro del proyecto se debe especificar la ruta como primer parámetro\n",
    "# Despues de ejecutar se cierra el archivo.\n",
    "try:\n",
    "\twith open('nuevo.txt') as file:\n",
    "\t\tprint(file.read())\n",
    "except FileNotFoundError:\n",
    "    print(\"El archivo no fue encontrado\")\n",
    "else:\n",
    "    print(\"El archivo fue cerrado:\", file.closed)"
   ]
  },
  {
   "cell_type": "code",
   "execution_count": 10,
   "metadata": {},
   "outputs": [],
   "source": [
    "# Insertar contenido en archivo\n",
    "# Se sobreescribe el contenido\n",
    "texto = \"Darío\\nEstos son links de cursos gratis.\\nIngresar y registrarse.\"\n",
    "with open('nuevo2.txt', 'w') as file: # Se usa 'w' para señalar que se va a escribir (write) en el archivo.\n",
    "    file.write(texto)"
   ]
  },
  {
   "cell_type": "code",
   "execution_count": 12,
   "metadata": {},
   "outputs": [],
   "source": [
    "# Agregar contenido en archivo sin sobreescribir\n",
    "texto = \"\\nHay que ver los caracteres especiales.\\nPilas.\"\n",
    "with open('nuevo2.txt', 'a') as file: # Se usa 'a' para señalar que se va a agregar contenido en el archivo.\n",
    "    file.write(texto)"
   ]
  },
  {
   "cell_type": "code",
   "execution_count": 13,
   "metadata": {},
   "outputs": [
    {
     "data": {
      "text/plain": [
       "'copy_nuevo.txt'"
      ]
     },
     "execution_count": 13,
     "metadata": {},
     "output_type": "execute_result"
    }
   ],
   "source": [
    "# Copiar archivos\n",
    "import shutil\n",
    "#Funciones básicas: \n",
    "#copyfile():Copia el contenido de un archivo a otro, \n",
    "#copy(): Hace todo lo de copyfile() además de copiar los permmisos y el destino,\n",
    "#copy2(): Hace todo lo de copy() además de copiar los métodos del archivo y fecha de creación y modificación.\n",
    "\n",
    "shutil.copyfile('nuevo.txt', 'copy_nuevo.txt') #(archivo de origen, archivo de destino)\n",
    "#Si el destino es fuera de la carpeta del proyecto se escribe la ruta de donde se queire copiar el archivo.\n",
    "#shutil.copyfile('nuevo.txt', '\\\\copy_nuevo.txt')"
   ]
  },
  {
   "cell_type": "code",
   "execution_count": 16,
   "metadata": {},
   "outputs": [
    {
     "name": "stdout",
     "output_type": "stream",
     "text": [
      "Ya hay un archivo en este destino\n"
     ]
    }
   ],
   "source": [
    "# Mover archivo o directorio\n",
    "import os\n",
    "\n",
    "origen = 'copy_nuevo.txt' #Ruta de origen del archivo a mover\n",
    "#origen = 'nombre de carpeta' #Ruta de origen del directorio (carpeta) a mover\n",
    "destino = 'C:\\\\Users\\\\DARIO\\\\Desktop\\\\moved_copy_nuevo.txt' #Ruta donde se va a enviar archivo\n",
    "\n",
    "try:\n",
    "    #Verificar si ya hay un archivo\n",
    "    if os.path.exists(destino):\n",
    "        print(\"Ya hay un archivo en este destino\")\n",
    "    else:\n",
    "        os.replace(origen, destino)\n",
    "        print(origen + 'Fue movido')\n",
    "except FileNotFoundError:\n",
    "    print(origen + 'No fue encontrado')"
   ]
  },
  {
   "cell_type": "code",
   "execution_count": 22,
   "metadata": {},
   "outputs": [
    {
     "name": "stdout",
     "output_type": "stream",
     "text": [
      "El archivo no fue encontrado\n"
     ]
    }
   ],
   "source": [
    "# Eliminar archivo\n",
    "import os\n",
    "\n",
    "path = 'C:\\\\Users\\\\DARIO\\\\Desktop\\\\moved_copy_nuevo.txt' #Escribir la ruta del archivo a eliminar\n",
    "\n",
    "try:\n",
    "\tos.remove(path)\n",
    "except FileNotFoundError:\n",
    "    print('El archivo no fue encontrado')\n",
    "else:\n",
    "    print(\"El archivo fue eliminado\")"
   ]
  },
  {
   "cell_type": "code",
   "execution_count": 19,
   "metadata": {},
   "outputs": [
    {
     "name": "stdout",
     "output_type": "stream",
     "text": [
      "No se puede eliminar usando esa función\n"
     ]
    }
   ],
   "source": [
    "# Eliminar directorio (carpeta)\n",
    "import os\n",
    "import shutil\n",
    "\n",
    "path = 'nueva carpeta' #Escribir la ruta del archivo a eliminar\n",
    "\n",
    "try:\n",
    "\t#os.rmdir(path) # Solo sirve para eliminar un directorio (carpeta) vacio.\n",
    "\tshutil.rmtree(path) # Elimina un directorio y todo lo que contiene dentro. \n",
    "except FileNotFoundError:\n",
    "    print('El archivo no fue encontrado')\n",
    "except PermissionError:\n",
    "    print(\"No tienes permiso para eliminar carpeta\")\n",
    "except OSError:\n",
    "    print(\"No se puede eliminar usando esa función\")\n",
    "else:\n",
    "    print(path + \"Fue eliminado\")"
   ]
  },
  {
   "cell_type": "markdown",
   "metadata": {},
   "source": [
    "## **IMPORTAR ARCHIVOS**"
   ]
  },
  {
   "cell_type": "code",
   "execution_count": 2,
   "metadata": {},
   "outputs": [
    {
     "name": "stdout",
     "output_type": "stream",
     "text": [
      "['nombre', 'edad', 'ciudad']\n",
      "['Alice', '30', 'Nueva York']\n",
      "['Juan', '34', 'Quito']\n"
     ]
    }
   ],
   "source": [
    "# Archivo csv\n",
    "import csv\n",
    "\n",
    "with open('C:\\\\Users\\\\DARIO\\\\Desktop\\\\Ejercicios PYTHON y SQL\\\\Python\\\\Archivos Curso 2 Python\\\\datos.csv', mode='r') as archivo:\n",
    "    lector = csv.reader(archivo)\n",
    "    for fila in lector:\n",
    "        print(fila)"
   ]
  },
  {
   "cell_type": "code",
   "execution_count": 3,
   "metadata": {},
   "outputs": [],
   "source": [
    "# Imagen\n",
    "#pip install Pillow\n",
    "from PIL import Image\n",
    "\n",
    "imagen = Image.open('C:\\\\Users\\\\DARIO\\\\Desktop\\\\Ejercicios PYTHON y SQL\\\\Python\\\\Archivos Curso 2 Python\\\\flor.jpg')\n",
    "imagen.show()"
   ]
  },
  {
   "cell_type": "markdown",
   "metadata": {},
   "source": [
    "## **EXPRESIONES REGULARES**"
   ]
  },
  {
   "cell_type": "code",
   "execution_count": null,
   "metadata": {},
   "outputs": [],
   "source": [
    "# Estándar que se utiliza para inspeccionar si una cadena de texto tiene ciertos elementos.\n",
    "import re \n",
    "\n",
    "my_string = \"Esta es la lección sobre expresiones regulares.\"\n",
    "\n",
    "# Busca coincidencia de string en el principio\n",
    "# re.I: Significa que no hay problema entre mayúsculas y minúsculas.\n",
    "print(re.match(\"Esta es la lección\", my_string, re.I))\n",
    "\n",
    "match = re.match(\"Esta es la lección\", my_string, re.I)\n",
    "print(match)\n",
    "print(match.span())"
   ]
  },
  {
   "cell_type": "code",
   "execution_count": 30,
   "metadata": {},
   "outputs": [
    {
     "name": "stdout",
     "output_type": "stream",
     "text": [
      "<re.Match object; span=(11, 18), match='lección'>\n",
      "(11, 18)\n"
     ]
    }
   ],
   "source": [
    "# Search: Busca la coincidencia en cualquier sitio.\n",
    "my_string = \"Esta es la lección sobre expresiones regulares. Nueva lección\"\n",
    "search = re.search(\"lección\", my_string, re.I)\n",
    "print(search)\n",
    "print(search.span())"
   ]
  },
  {
   "cell_type": "code",
   "execution_count": 34,
   "metadata": {},
   "outputs": [
    {
     "name": "stdout",
     "output_type": "stream",
     "text": [
      "['lección', 'Lección']\n"
     ]
    }
   ],
   "source": [
    "# Findall: Muestra las veces de coincidencia.\n",
    "my_string = \"Esta es la lección sobre expresiones regulares. Nueva Lección\"\n",
    "find = re.findall(\"lección\", my_string, re.I)\n",
    "print(find)"
   ]
  },
  {
   "cell_type": "code",
   "execution_count": 38,
   "metadata": {},
   "outputs": [
    {
     "name": "stdout",
     "output_type": "stream",
     "text": [
      "['Esta es la lección sobre expresiones regulares', ' Nueva Lección']\n"
     ]
    }
   ],
   "source": [
    "# Split: Divide la cadena de texto dependiendo del caracter que se le ingrese\n",
    "my_string = \"Esta es la lección sobre expresiones regulares: Nueva Lección\"\n",
    "split = re.split(\":\", my_string)\n",
    "print(split)"
   ]
  },
  {
   "cell_type": "code",
   "execution_count": 44,
   "metadata": {},
   "outputs": [
    {
     "name": "stdout",
     "output_type": "stream",
     "text": [
      "Esta es la lección sobre RegEx: Nueva Lección\n",
      "Esta es la LECCION sobre expresiones regulares: Nueva LECCION\n"
     ]
    }
   ],
   "source": [
    "# Sub: Sustituir una cadena de texto por otra\n",
    "my_string = \"Esta es la lección sobre expresiones regulares: Nueva Lección\"\n",
    "sub = re.sub(\"expresiones regulares\", \"RegEx\", my_string)\n",
    "sub2 = re.sub(\"[l|L]ección\", \"LECCION\", my_string) #Coincidencia entre minúsculas y mayúsculas.\n",
    "print(sub)\n",
    "print(sub2)"
   ]
  },
  {
   "cell_type": "markdown",
   "metadata": {},
   "source": [
    "## **PATRONES CON EXPRESIONES REGULARES**"
   ]
  },
  {
   "cell_type": "markdown",
   "metadata": {},
   "source": [
    "### Para aprender y validar expresiones regulares: https://regex101.com"
   ]
  },
  {
   "cell_type": "code",
   "execution_count": 54,
   "metadata": {},
   "outputs": [
    {
     "name": "stdout",
     "output_type": "stream",
     "text": [
      "['lección', 'expresiones', 'Lección']\n",
      "['s', 't', 'a', 'e', 's', 'l', 'a', 'l', 'e', 'c', 'c', 'i', 'n', 's', 'o', 'b', 'r', 'e', 'e', 'x', 'p', 'r', 'e', 's', 'i', 'o', 'n', 'e', 's', 'r', 'e', 'g', 'u', 'l', 'a', 'r', 'e', 's', 'u', 'e', 'v', 'a', 'e', 'c', 'c', 'i', 'n']\n",
      "['2']\n",
      "['2']\n",
      "['E', 's', 't', 'a', ' ', 'e', 's', ' ', 'l', 'a', ' ', 'l', 'e', 'c', 'c', 'i', 'ó', 'n', ' ', 's', 'o', 'b', 'r', 'e', ' ', 'e', 'x', 'p', 'r', 'e', 's', 'i', 'o', 'n', 'e', 's', ' ', 'r', 'e', 'g', 'u', 'l', 'a', 'r', 'e', 's', ':', ' ', '.', ' ', 'N', 'u', 'e', 'v', 'a', ' ', 'L', 'e', 'c', 'c', 'i', 'ó', 'n']\n",
      "['la', 'le', 'la']\n",
      "['la lección sobre expresiones regulares: 2. Nueva Lección']\n"
     ]
    }
   ],
   "source": [
    "my_string = \"Esta es la lección sobre expresiones regulares: 2. Nueva Lección\"\n",
    "patron = r'[l|L]ección|expresiones'\n",
    "print(re.findall(patron, my_string))\n",
    "\n",
    "patron = r'[a-z]' # Coincidencia entre todas las letras desde la \"a\" a la \"z\"\n",
    "print(re.findall(patron, my_string))\n",
    "\n",
    "patron = r'[0-9]' # Coincidencia entre todos los números desde el 0 al 9\n",
    "print(re.findall(patron, my_string))\n",
    "\n",
    "patron = r'\\d' # Coincidencia entre solo valores numéricos\n",
    "print(re.findall(patron, my_string))\n",
    "\n",
    "patron = r'\\D' # Coincidencia entre solo letras, espacios y símbolos\n",
    "print(re.findall(patron, my_string))\n",
    "\n",
    "patron = r'[l].' # Coincidencia que empieze con letra \"l\"\n",
    "print(re.findall(patron, my_string))\n",
    "\n",
    "patron = r'[l].*' # Coincidencia con la primera palabra con letra \"l\" y devuelve todo lo demás a partir de esa palabra\n",
    "print(re.findall(patron, my_string))\n",
    "\n",
    "patron = r'[l].' # Coincidencia que empieze con letra \"l\"\n",
    "print(re.findall(patron, my_string))"
   ]
  },
  {
   "cell_type": "code",
   "execution_count": 61,
   "metadata": {},
   "outputs": [
    {
     "name": "stdout",
     "output_type": "stream",
     "text": [
      "['dario_gb18@g.c.ec.uce']\n"
     ]
    }
   ],
   "source": [
    "# Validación de email\n",
    "# ^[a-zA-Z0-9_.+-]: significa coinicidencias que empiezen por culaquier cosa que tenga letras de la \"a\" a a \"z\" (mayúsculas o minúsculas)\n",
    "# número del 0 al 9 y caracteres (_.+-)\n",
    "# @[a-zA-Z0-9-]: Parecido a lo anterior\n",
    "#\\.: Significa cualquier caracter\n",
    "#$: Tiene en cuenta todo lo que viene despues del punto\n",
    "\n",
    "email = \"dario_gb18@g.c.ec.uce\"\n",
    "def is_valid_email(email):\n",
    "    patron = r\"^[a-zA-Z0-9_.+-]+@[a-zA-Z0-9-]+\\.[a-zA-Z0-9-.]+$\"\n",
    "    #return re.match(patron, email)\n",
    "    #return re.search(patron, email)\n",
    "    return re.findall(patron, email)\n",
    "\n",
    "print(is_valid_email(email))"
   ]
  },
  {
   "cell_type": "markdown",
   "metadata": {},
   "source": [
    "## **FECHAS**"
   ]
  },
  {
   "cell_type": "code",
   "execution_count": 1,
   "metadata": {},
   "outputs": [],
   "source": [
    "# Importar librería para trabajar con fechas \"datetime\"\n",
    "import datetime #importa todo el modulo"
   ]
  },
  {
   "cell_type": "code",
   "execution_count": 2,
   "metadata": {},
   "outputs": [],
   "source": [
    "from datetime import datetime # De toda la librería solo se importa el modulo datetime "
   ]
  },
  {
   "cell_type": "code",
   "execution_count": 4,
   "metadata": {},
   "outputs": [
    {
     "name": "stdout",
     "output_type": "stream",
     "text": [
      "2025\n",
      "1\n",
      "11\n",
      "20\n",
      "21\n",
      "25\n"
     ]
    }
   ],
   "source": [
    "hoy = datetime.now() # Objeto de tipo fecha \n",
    "\n",
    "print(hoy.year) #Año\n",
    "print(hoy.month) #Mes\n",
    "print(hoy.day) #Día\n",
    "print(hoy.hour) #Hora\n",
    "print(hoy.minute) #Minutos\n",
    "print(hoy.second) #Segundos"
   ]
  },
  {
   "cell_type": "code",
   "execution_count": 6,
   "metadata": {},
   "outputs": [
    {
     "name": "stdout",
     "output_type": "stream",
     "text": [
      "1736644885.510091\n"
     ]
    }
   ],
   "source": [
    "# Timestamp\n",
    "# Represetación de un tiempo actual.\n",
    "timestamp = hoy.timestamp()\n",
    "print(timestamp)"
   ]
  },
  {
   "cell_type": "code",
   "execution_count": 7,
   "metadata": {},
   "outputs": [
    {
     "name": "stdout",
     "output_type": "stream",
     "text": [
      "2025\n",
      "11\n",
      "1\n",
      "20\n",
      "21\n",
      "25\n"
     ]
    }
   ],
   "source": [
    "# Función con fechas.\n",
    "def fecha(date):\n",
    "\tprint(date.year) #Año\n",
    "\tprint(date.day) #Día\n",
    "\tprint(date.month) #Mes\n",
    "\tprint(date.hour) #Hora\n",
    "\tprint(date.minute) #Minutos\n",
    "\tprint(date.second) #Segundos\n",
    "  \n",
    "fecha(hoy)"
   ]
  },
  {
   "cell_type": "code",
   "execution_count": 9,
   "metadata": {},
   "outputs": [
    {
     "name": "stdout",
     "output_type": "stream",
     "text": [
      "2026-01-01 03:00:00\n"
     ]
    }
   ],
   "source": [
    "nuevo_año = datetime(2026, 1, 1)\n",
    "print(nuevo_año)"
   ]
  },
  {
   "cell_type": "code",
   "execution_count": 15,
   "metadata": {},
   "outputs": [],
   "source": [
    "# Solo FECHA\n",
    "# Importar objeto de solo fecha\n",
    "from datetime import date"
   ]
  },
  {
   "cell_type": "code",
   "execution_count": 16,
   "metadata": {},
   "outputs": [
    {
     "name": "stdout",
     "output_type": "stream",
     "text": [
      "2025-01-11\n"
     ]
    }
   ],
   "source": [
    "fecha_act = date.today()\n",
    "print(fecha_act)"
   ]
  },
  {
   "cell_type": "code",
   "execution_count": 10,
   "metadata": {},
   "outputs": [],
   "source": [
    "# Tiempo (hh:mm:ss)\n",
    "# Importar objeto de solo tiempo\n",
    "from datetime import time"
   ]
  },
  {
   "cell_type": "code",
   "execution_count": 11,
   "metadata": {},
   "outputs": [
    {
     "name": "stdout",
     "output_type": "stream",
     "text": [
      "00:00:00\n"
     ]
    }
   ],
   "source": [
    "current_time = time()\n",
    "print(current_time)"
   ]
  },
  {
   "cell_type": "code",
   "execution_count": 13,
   "metadata": {},
   "outputs": [
    {
     "name": "stdout",
     "output_type": "stream",
     "text": [
      "0\n",
      "00:00:00\n",
      "0\n"
     ]
    }
   ],
   "source": [
    "current_time = time()\n",
    "print(current_time.hour) #Obtener la hora\n",
    "print(current_time.min) #Obtener los minutos\n",
    "print(current_time.second) #Obtener los segundos"
   ]
  },
  {
   "cell_type": "code",
   "execution_count": 14,
   "metadata": {},
   "outputs": [
    {
     "name": "stdout",
     "output_type": "stream",
     "text": [
      "02:30:10\n"
     ]
    }
   ],
   "source": [
    "current_time = time(hour=2,minute=30, second=10)\n",
    "print(current_time)"
   ]
  },
  {
   "cell_type": "code",
   "execution_count": 17,
   "metadata": {},
   "outputs": [
    {
     "name": "stdout",
     "output_type": "stream",
     "text": [
      "2022\n",
      "10\n",
      "6\n"
     ]
    }
   ],
   "source": [
    "# Modificar fechas\n",
    "current_date = date(2022, 10, 6)\n",
    "print(current_date.year) #Obtener año\n",
    "print(current_date.month) #Obtener mes\n",
    "print(current_date.day) #Obtener día"
   ]
  },
  {
   "cell_type": "code",
   "execution_count": 19,
   "metadata": {},
   "outputs": [
    {
     "name": "stdout",
     "output_type": "stream",
     "text": [
      "2023-11-07\n"
     ]
    }
   ],
   "source": [
    "# Sumando un año\n",
    "current_date = date(current_date.year +1, current_date.month +1, current_date.day +1)\n",
    "print(current_date)"
   ]
  },
  {
   "cell_type": "code",
   "execution_count": 20,
   "metadata": {},
   "outputs": [],
   "source": [
    "# Operar con diferentes fechas.\n",
    "# Deben tener el mismo tipo (date o datetime)\n",
    "diff1 = nuevo_año - hoy\n",
    "diff2 = nuevo_año.date() - current_date\n",
    "\n",
    "print(diff1)\n",
    "print(diff2)\n"
   ]
  },
  {
   "cell_type": "code",
   "execution_count": 23,
   "metadata": {},
   "outputs": [
    {
     "name": "stdout",
     "output_type": "stream",
     "text": [
      "354 days, 6:38:34.489909\n",
      "786 days, 0:00:00\n"
     ]
    }
   ],
   "source": [
    "#Time delta define valores absolutos.\n",
    "# Franjas de tiempo. \n",
    "from datetime import timedelta"
   ]
  },
  {
   "cell_type": "code",
   "execution_count": 24,
   "metadata": {},
   "outputs": [
    {
     "name": "stdout",
     "output_type": "stream",
     "text": [
      "121 days, 0:00:00\n",
      "661 days, 0:03:20.000200\n"
     ]
    }
   ],
   "source": [
    "# Franjas tiempo entre dos fechas\n",
    "start_timedelta = timedelta(200, 100, 100 , weeks=10)\n",
    "end_timedelta = timedelta(300, 100, 100 , weeks=13)\n",
    "print(end_timedelta - start_timedelta)\n",
    "print(end_timedelta + start_timedelta)"
   ]
  },
  {
   "cell_type": "markdown",
   "metadata": {},
   "source": [
    "## **MANEJO DE PAQUETES. PIP**"
   ]
  },
  {
   "cell_type": "markdown",
   "metadata": {},
   "source": [
    "Python Package Index. pip\n",
    "\n",
    "Comandos en consola:\n",
    "\n",
    "pip # Todas las opciones.\n",
    "pip --version # Sirve para ver la versión de pip.\n",
    "pip install pip # Instala pip.\n",
    "pip install nombre_paquete # Instala el paquete.\n",
    "pip list # Lista de paquetes instalados. \n",
    "pip show nombre_paquete # Descripción del paquete.\n"
   ]
  }
 ],
 "metadata": {
  "kernelspec": {
   "display_name": "Python 3",
   "language": "python",
   "name": "python3"
  },
  "language_info": {
   "codemirror_mode": {
    "name": "ipython",
    "version": 3
   },
   "file_extension": ".py",
   "mimetype": "text/x-python",
   "name": "python",
   "nbconvert_exporter": "python",
   "pygments_lexer": "ipython3",
   "version": "3.13.0"
  }
 },
 "nbformat": 4,
 "nbformat_minor": 2
}
