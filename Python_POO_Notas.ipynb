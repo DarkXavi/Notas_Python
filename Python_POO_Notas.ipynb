{
 "cells": [
  {
   "cell_type": "markdown",
   "metadata": {},
   "source": [
    "## **PROGRAMACIÓN ORIENTADA A OBJETOS**"
   ]
  },
  {
   "cell_type": "markdown",
   "metadata": {},
   "source": [
    "## **CLASES Y OBJETOS**"
   ]
  },
  {
   "cell_type": "code",
   "execution_count": null,
   "metadata": {},
   "outputs": [],
   "source": [
    "# Clase: Es como una plantilla que tiene parámetros y/o funciones que sirve para crear objetos.\n",
    "# Estructura\n",
    "class NombreDeLaClase:\n",
    "    # Atributo de clase\n",
    "    atributo_de_clase = \"valor\"\n",
    "    atributo_de_clase1 = 5\n",
    "    \n",
    "    def __init__(self, parámetro1, parámetro2):\n",
    "        # Atributos de instancia\n",
    "        self.parámetro1 = parámetro1\n",
    "        self.parámetro2 = parámetro2\n",
    "\n",
    "    # Método de instancia\n",
    "    def método_de_instancia(self):\n",
    "        # Código del método\n",
    "        return self.parámetro1 + self.parámetro2\n",
    "\n",
    "'''\n",
    "- NombreDeLaClase: Sigue la convención de nombrar clases con cada palabra capitalizada (CamelCase).\n",
    "- `__init__`: Es un método especial que se ejecuta al crear un nuevo objeto de la clase (conocido como constructor). \n",
    "- Los self.parámetro1 y self.parámetro2 son atributos de instancia, y self es una referencia al objeto actual.\n",
    "- atributo_de_clase: Es un valor asociado con la clase misma, no con una instancia particular.\n",
    "- método_de_instancia: Es un método que se puede llamar sobre una instancia de la clase. \n",
    "El primer argumento, self, es una referencia a la instancia particular. \n",
    "'''"
   ]
  },
  {
   "cell_type": "code",
   "execution_count": null,
   "metadata": {},
   "outputs": [],
   "source": [
    "# Clase que hace un análisis de datos simple de una lista de números.\n",
    "# Los atributos de instancia para ser llamados dentro de otros métodos siempre deben ir precedidos por \"self.\"\n",
    "# Un método o una función definida dentro de una clase si no tiene parámetros debe usarse \"self\".\n",
    "# \"self\" nos indica que vamos a poder usar cualquier atributo de la instancia y de la clase.\n",
    "# \"self\" debe siempre ser el primer parámetro en el método.\n",
    "\n",
    "class DataSet: # Nombre de clase\n",
    "    tipo_dato = 'numérico' # Atributo de clase ya que esta definido aparte\n",
    "    \n",
    "    def __init__(self,data): #Constructor\n",
    "        self.data =  data # Atributo de instancia\n",
    "\n",
    "    # Método para calcular la media\n",
    "    def media(self):\n",
    "        \"\"\"Devuelve la media de los datos.\"\"\"\n",
    "        return sum(self.data) / len(self.data)\n",
    "\n",
    "    # Método para calcular la mediana\n",
    "    def mediana(self):\n",
    "        \"\"\"Devuelve la mediana de los datos.\"\"\"\n",
    "        sorted_data = sorted(self.data) # Ordena los datos\n",
    "        n = len(sorted_data) # Longitud de los datos\n",
    "        punto_medio = n // 2 # // Division entera\n",
    "        if n % 2 == 0: # n Par\n",
    "            #Si la longitud es impar debe sumar los 2 valores centrales y dividir entre 2\n",
    "            return (sorted_data[punto_medio - 1] + sorted_data[punto_medio]) / 2 \n",
    "        else:\n",
    "            return sorted_data[punto_medio] # Si la longitud es impar la media es el valor del medio\n",
    "    \n",
    "    # Método para insertar un nuevo dato\n",
    "    def añadir_dato(self, nuevo_dato): # El método tiene como parámetros la lista y el valor ingresado al llamar al método\n",
    "        self.data.append(nuevo_dato)"
   ]
  },
  {
   "cell_type": "code",
   "execution_count": null,
   "metadata": {},
   "outputs": [],
   "source": [
    "# nombre_variable = Nombre de la clase (atributo de instancia)\n",
    "# mis_datos = DataSet(data)\n",
    "# El nombre de instancia es \"data\" como esta definido en el constructor __init__\n",
    "mis_datos = DataSet([1, 2, 3, 4, 5, 10])"
   ]
  },
  {
   "cell_type": "code",
   "execution_count": null,
   "metadata": {},
   "outputs": [
    {
     "name": "stdout",
     "output_type": "stream",
     "text": [
      "[1, 2, 3, 4, 5, 10]\n",
      "numérico\n"
     ]
    }
   ],
   "source": [
    "print(mis_datos.data) # .data indica el atributo de instancia definido en la función def __init__ (en este caso una lista)\n",
    "print(mis_datos.tipo_dato) # .tipo_dato indica el atributo de instancia definido como atributo de clase"
   ]
  },
  {
   "cell_type": "code",
   "execution_count": null,
   "metadata": {},
   "outputs": [
    {
     "name": "stdout",
     "output_type": "stream",
     "text": [
      "[1, 2, 3, 4, 5, 10, 20, 20]\n"
     ]
    }
   ],
   "source": [
    "mis_datos.añadir_dato(20) # Llama al método añadir_datos y le pasa como parámetro el valor 20.\n",
    "print(mis_datos.data)"
   ]
  },
  {
   "cell_type": "code",
   "execution_count": null,
   "metadata": {},
   "outputs": [
    {
     "data": {
      "text/plain": [
       "4.5"
      ]
     },
     "metadata": {},
     "output_type": "display_data"
    }
   ],
   "source": [
    "mis_datos.mediana() #Llamar al método mediana, se pone paréntesis al final ya que se esta haciendo referencia a un MÉTODO. "
   ]
  },
  {
   "cell_type": "code",
   "execution_count": null,
   "metadata": {},
   "outputs": [
    {
     "data": {
      "text/plain": [
       "8.125"
      ]
     },
     "metadata": {},
     "output_type": "display_data"
    }
   ],
   "source": [
    "mis_datos.media()"
   ]
  },
  {
   "cell_type": "code",
   "execution_count": null,
   "metadata": {},
   "outputs": [
    {
     "name": "stdout",
     "output_type": "stream",
     "text": [
      "Darío GB está estudiando\n",
      "Dark Xavi\n",
      "Dark Xavi está estudiando\n"
     ]
    }
   ],
   "source": [
    "class Person:\n",
    "\tdef __init__(self, name, surname):\n",
    "\t\t#self.name = name\n",
    "\t\t#self.surname = surname\n",
    "\t\tself.fullname = f'{name} {surname}'\n",
    "\t\n",
    "\tdef walk(self):\n",
    "\t\tprint(f\"{self.fullname} está estudiando\")\n",
    "\n",
    "persona = Person(\"Darío\", \"GB\")\n",
    "#print(f\"{persona.name} {persona.surname}\")\n",
    "persona.walk()\n",
    "\n",
    "other_person = Person(\"Dark\", \"Xavi\")\n",
    "print(other_person.fullname)\n",
    "other_person.walk()"
   ]
  },
  {
   "cell_type": "markdown",
   "metadata": {},
   "source": [
    "### **Ejercicio: Crear una clase Triangulo y utilizar un método de instancia para calcular el área de un triángulo**\n",
    "\n",
    "**Realizarlo de las siguientes formas:**"
   ]
  },
  {
   "cell_type": "markdown",
   "metadata": {},
   "source": [
    "#### **a) Definiendo base y altura como variables y pasándolos como parámetros**\n",
    "\n",
    "1. **Definición de la Clase `Triangulo`:**\n",
    "   - La clase `Triangulo` incluye un método `area` que calcula el área del triángulo dado su base y altura.\n",
    "2. **Creación de una Instancia y Cálculo del Área:**\n",
    "   - Se crea una instancia de la clase `Triangulo` llamada `tri`.\n",
    "   - Se definen las variables `base` y `altura` con valores 1 y 2, respectivamente.\n",
    "   - Se llama al método `area` de la instancia `tri`, pasando las variables `base` y `altura` como parámetros."
   ]
  },
  {
   "cell_type": "code",
   "execution_count": 5,
   "metadata": {},
   "outputs": [
    {
     "name": "stdout",
     "output_type": "stream",
     "text": [
      "El área es: 5.0\n"
     ]
    }
   ],
   "source": [
    "class Triangulo:\n",
    "    def area (self, base, altura):\n",
    "        print(f\"El área es: {(base*altura)/2}\")\n",
    "        \n",
    "tri = Triangulo()\n",
    "base = 2\n",
    "altura = 5\n",
    "tri.area(base, altura)"
   ]
  },
  {
   "cell_type": "markdown",
   "metadata": {},
   "source": [
    "#### **b) Definiendo base y altura como atributos y pasándolos como parámetros**\n",
    "\n",
    "1. **Definición de la Clase `Triangulo`:**\n",
    "   - La clase `Triangulo` incluye un método `area` que calcula el área del triángulo utilizando los atributos `base` y `altura` de la instancia.\n",
    "2. **Creación de una Instancia y Cálculo del Área:**\n",
    "   - Se crea una instancia de la clase `Triangulo` llamada `tri`.\n",
    "   - Se definen los atributos `base` y `altura` de la instancia `tri` con los valores 1 y 2, respectivamente.\n",
    "   - Se llama al método `area` de la instancia `tri`, pasando `tri.base` y `tri.altura` como parámetros."
   ]
  },
  {
   "cell_type": "code",
   "execution_count": 6,
   "metadata": {},
   "outputs": [
    {
     "name": "stdout",
     "output_type": "stream",
     "text": [
      "El área es: 5.0\n"
     ]
    }
   ],
   "source": [
    "class Triangulo:\n",
    "    def area (self, base, altura):\n",
    "        print(f\"El área es: {(base*altura)/2}\")\n",
    "        \n",
    "tri = Triangulo()\n",
    "tri.base = 2\n",
    "tri.altura = 5\n",
    "tri.area(tri.base, tri.altura)  "
   ]
  },
  {
   "cell_type": "markdown",
   "metadata": {},
   "source": [
    "#### **c) Definiendo base y altura como atributos y utilizarlos en la definición del método de instancia**\n",
    "\n",
    "1. **Definición de la Clase `Triangulo`:**\n",
    "   - La clase `Triangulo` incluye un método `area` que utiliza los atributos `base` y `altura` de la instancia para calcular el área del triángulo.\n",
    "2. **Creación de una Instancia y Cálculo del Área:**\n",
    "   - Se crea una instancia de la clase `Triangulo` llamada `tri`.\n",
    "   - Se definen los atributos `base` y `altura` de la instancia `tri` con los valores 1 y 2, respectivamente.\n",
    "   - Se llama al método `area` de la instancia `tri`, que utiliza estos atributos para calcular el área."
   ]
  },
  {
   "cell_type": "code",
   "execution_count": 7,
   "metadata": {},
   "outputs": [
    {
     "name": "stdout",
     "output_type": "stream",
     "text": [
      "El área es: 5.0\n"
     ]
    }
   ],
   "source": [
    "class Triangulo:\n",
    "    def area (self):\n",
    "        print(f\"El área es: {(self.base * self.altura)/2}\")\n",
    "        \n",
    "tri = Triangulo()\n",
    "tri.base = 2\n",
    "tri.altura = 5\n",
    "tri.area()  "
   ]
  },
  {
   "cell_type": "markdown",
   "metadata": {},
   "source": [
    "#### **d) Definiendo el constructor con los atributos base y altura y utilizarlos en la definición del método de instancia**\n",
    "\n",
    "1. **Definición de la Clase `Triangulo`:**\n",
    "   - La clase `Triangulo` tiene un constructor `__init__` que inicializa los atributos `base` y `altura`.\n",
    "   - El método `area` calcula y muestra el área del triángulo usando estos atributos.\n",
    "2. **Creación de una Instancia y Cálculo del Área:**\n",
    "   - Se crea una instancia de la clase `Triangulo` con `base` de 1 y `altura` de 2.\n",
    "   - Se llama al método `area` de la instancia para calcular el área."
   ]
  },
  {
   "cell_type": "code",
   "execution_count": 8,
   "metadata": {},
   "outputs": [
    {
     "name": "stdout",
     "output_type": "stream",
     "text": [
      "El área es: 5.0\n"
     ]
    }
   ],
   "source": [
    "class Triangulo:\n",
    "    def __init__(self, base, altura):\n",
    "        self.base = base\n",
    "        self.altura = altura\n",
    "        \n",
    "    def area (self):\n",
    "        print(f\"El área es: {(self.base * self.altura)/2}\")\n",
    "        \n",
    "tri = Triangulo(2, 5)\n",
    "tri.area()  "
   ]
  },
  {
   "cell_type": "markdown",
   "metadata": {},
   "source": [
    "#### **e) Definiendo el constructor con los atributos privados base y altura y utilizarlos en la definición del método de instancia. METODO RECOMENDADO**\n",
    "\n",
    "1. **Definición de la Clase `Triangulo`:**\n",
    "   - La clase `Triangulo` define atributos privados `__base` y `__altura` en el constructor `__init__`.\n",
    "   - El método `area` utiliza estos atributos privados para calcular y mostrar el área del triángulo.\n",
    "2. **Creación de una Instancia y Cálculo del Área:**\n",
    "   - Se crea una instancia de la clase `Triangulo` con `base` de 1 y `altura` de 2.\n",
    "   - Se llama al método `area` de la instancia para calcular el área."
   ]
  },
  {
   "cell_type": "code",
   "execution_count": 9,
   "metadata": {},
   "outputs": [
    {
     "name": "stdout",
     "output_type": "stream",
     "text": [
      "El área es: 5.0\n"
     ]
    }
   ],
   "source": [
    "class Triangulo:\n",
    "    def __init__(self, base, altura):\n",
    "        self.__base = base\n",
    "        self.__altura = altura\n",
    "        \n",
    "    def area (self):\n",
    "        print(f\"El área es: {(self.__base * self.__altura)/2}\")\n",
    "        \n",
    "tri = Triangulo(2, 5)\n",
    "tri.area()  "
   ]
  },
  {
   "cell_type": "markdown",
   "metadata": {},
   "source": [
    "## **METODOS DE CLASE**"
   ]
  },
  {
   "cell_type": "markdown",
   "metadata": {},
   "source": [
    "Son métodos que operan sobre la clase, no sobre una instancia específica.\n",
    "* En lugar de *self*, utilizan *cls* para referirse a la clase.\n",
    "* Se utiliza el decorador @classmethod antes de definir la función para referirla como un método de clase.\n",
    "    * Los decoradores en Python son una característica que permite modificar el comportamiento de una función, método o clase"
   ]
  },
  {
   "cell_type": "markdown",
   "metadata": {},
   "source": [
    "### Ejemplo de Uso de Método de Clase en la Clase `Saludo`\n",
    "\n",
    "1. **Definición de la Clase `Saludo`:**\n",
    "   - La clase `Saludo` contiene un atributo de clase `mensaje_bienvenida` que almacena un mensaje de bienvenida.\n",
    "   - El constructor `__init__` inicializa el atributo de instancia `__nombre`.\n",
    "   - El método de clase `obtener_mensaje_bienvenida` devuelve el mensaje de bienvenida.\n",
    "2. **Creación de una Instancia y Uso del Método de Clase:**\n",
    "   - Se crea una instancia de la clase `Saludo` con el nombre \"José\".\n",
    "   - Se llama al método de clase `obtener_mensaje_bienvenida` para obtener y mostrar el mensaje de bienvenida."
   ]
  },
  {
   "cell_type": "code",
   "execution_count": 10,
   "metadata": {},
   "outputs": [
    {
     "name": "stdout",
     "output_type": "stream",
     "text": [
      "Hola, bienvenid a clase\n"
     ]
    }
   ],
   "source": [
    "class Saludo:\n",
    "    mensaje_bienvenida = \"Hola, bienvenido a clase\"\n",
    "    \n",
    "    def __init__(self, nombre):\n",
    "        self.__nombre = nombre\n",
    "    \n",
    "    @classmethod\n",
    "    def obtener_mensaje_bienvenida(cls):\n",
    "        return cls.mensaje_bienvenida\n",
    "    \n",
    "persona = Saludo(\"Darío\")\n",
    "print(Saludo.obtener_mensaje_bienvenida())"
   ]
  },
  {
   "cell_type": "markdown",
   "metadata": {},
   "source": [
    "### Ejercicio: Conteo de objetos\n",
    "\n",
    "Realizar lo siguiente:\n",
    "\n",
    "* Definir una clase Estudiante\n",
    "* Definir el constructor\n",
    "    * Cada vez que se llame al constructor, se debe de incrementar el atributo que llevará el conteo de la cantidad de objetos instanciados\n",
    "* Definir un método de clase para obtener el conteo de estudiantes"
   ]
  },
  {
   "cell_type": "markdown",
   "metadata": {},
   "source": [
    "1. **Definición de la Clase `Estudiante`:**\n",
    "   - La clase `Estudiante` tiene un atributo de clase `conteo_estudiantes` que lleva el conteo de estudiantes creados.\n",
    "   - El constructor `__init__` inicializa el atributo de instancia `__nombre` y aumenta el conteo de estudiantes cada vez que se crea una nueva instancia.\n",
    "   - El método de clase `obtener_conteo_estudiantes` devuelve el número total de estudiantes.\n",
    "2. **Creación de Instancias y Uso del Método de Clase:**\n",
    "   - Se crean tres instancias de la clase `Estudiante` con los nombres \"José\", \"Fidel\" y \"Yazmin\".\n",
    "   - Se llama al método de clase `obtener_conteo_estudiantes` para obtener y mostrar el conteo de estudiantes.\n",
    "  \n",
    "**Explicación**\n",
    "\n",
    "- **Atributo de Clase `conteo_estudiantes`:**\n",
    "  - Es un atributo que pertenece a la clase `Estudiante` y se comparte entre todas las instancias. Se utiliza para llevar el registro del número total de instancias creadas.\n",
    "- **Método de Clase `obtener_conteo_estudiantes`:**\n",
    "  - Utiliza el decorador `@classmethod` para definir un método que puede acceder a atributos de clase.\n",
    "  - `cls` es una referencia a la clase `Estudiante`, permitiendo acceder a `conteo_estudiantes`."
   ]
  },
  {
   "cell_type": "code",
   "execution_count": 11,
   "metadata": {},
   "outputs": [
    {
     "name": "stdout",
     "output_type": "stream",
     "text": [
      "3\n"
     ]
    }
   ],
   "source": [
    "class Estudiante:\n",
    "    conteo_estudiantes = 0\n",
    "    \n",
    "    def __init__(self, nombre):\n",
    "        self.__nombre = nombre\n",
    "        Estudiante.conteo_estudiantes += 1\n",
    "        \n",
    "    @classmethod\n",
    "    def obtener_conteo_estudiantes(cls):\n",
    "        return cls.conteo_estudiantes\n",
    "    \n",
    "estudiante1 = Estudiante(\"Jose\")\n",
    "estudiante2 = Estudiante(\"Fidel\")\n",
    "estudiante3 = Estudiante(\"Yazmin\")\n",
    "\n",
    "print(Estudiante.obtener_conteo_estudiantes())\n",
    "    "
   ]
  },
  {
   "cell_type": "markdown",
   "metadata": {},
   "source": [
    "## **METODOS ESTATICOS**"
   ]
  },
  {
   "cell_type": "markdown",
   "metadata": {},
   "source": [
    "Se usa cuando se realiza algo que no se necesita acceder a la instancia, es decir a los objetos, ni acceder a la clase\n",
    "Son métodos que no operan sobre la instancia ni sobre la clase.\n",
    "* No reciben ni *self* ni *cls* como primer argumento.\n",
    "* Se utiliza el decorador @staticmethod antes de definir la función para referirla como un método estático"
   ]
  },
  {
   "cell_type": "markdown",
   "metadata": {},
   "source": [
    "### Ejemplo de Uso de Métodos Estáticos en una Clase `Calculadora`\n",
    "\n",
    "1. **Definición de la Clase `Calculadora`:**\n",
    "   - La clase `Calculadora` incluye métodos estáticos para realizar operaciones matemáticas básicas: suma, resta, multiplicación y división.\n",
    "   - Los métodos están decorados con `@staticmethod`, lo que significa que no requieren una instancia de la clase para ser llamados y no acceden a atributos de instancia o de clase.\n",
    "2. **Uso de los Métodos Estáticos:**\n",
    "   - Se llaman a los métodos estáticos de la clase `Calculadora` sin necesidad de crear una instancia de la clase.\n",
    "   - Los resultados de las operaciones se imprimen en la consola.\n",
    "\n",
    "**Explicación**\n",
    "\n",
    "- **Métodos Estáticos:**\n",
    "  - Los métodos estáticos, definidos con el decorador `@staticmethod`, no acceden ni modifican el estado de la instancia ni el estado de la clase. Se utilizan para funciones que están relacionadas con la clase pero no dependen de la instancia.\n",
    "- **Uso de Métodos Estáticos:**\n",
    "  - Los métodos estáticos se llaman directamente desde la clase, sin necesidad de crear un objeto de la misma. Esto es útil para operaciones que no necesitan mantener un estado interno y simplemente realizan cálculos o tareas."
   ]
  },
  {
   "cell_type": "code",
   "execution_count": 12,
   "metadata": {},
   "outputs": [
    {
     "name": "stdout",
     "output_type": "stream",
     "text": [
      "La suma es: 11\n",
      "La resta es: -3\n",
      "La multiplicación es: 28\n",
      "La división es: 0.5714285714285714\n"
     ]
    }
   ],
   "source": [
    "class Calculadora:\n",
    "    @staticmethod # No accede ni a la clase, ni a los objetos, solo reccibe parámetros\n",
    "    def sumar(x, y):\n",
    "        return x + y\n",
    "    @staticmethod\n",
    "    def restar(x, y):\n",
    "        return x - y\n",
    "    @staticmethod\n",
    "    def multiplicar(x, y):\n",
    "        return x * y\n",
    "    @staticmethod\n",
    "    def dividir(x, y):\n",
    "        return x / y\n",
    "\n",
    "suma = Calculadora.sumar(4, 7)\n",
    "print(f\"La suma es: {suma}\")\n",
    "\n",
    "resta = Calculadora.restar(4, 7)\n",
    "print(f\"La resta es: {resta}\")\n",
    "\n",
    "multiplicacion = Calculadora.multiplicar(4, 7)\n",
    "print(f\"La multiplicación es: {multiplicacion}\")\n",
    "\n",
    "division = Calculadora.dividir(4, 7)\n",
    "print(f\"La división es: {division}\")"
   ]
  },
  {
   "cell_type": "markdown",
   "metadata": {},
   "source": [
    "### Ejercicio: Creación de una Biblioteca\n",
    "\n",
    "Realizar lo siguiente:\n",
    "\n",
    "* Definir una clase Libro con constructor\n",
    "* Definir una clase Biblioteca sin constructor\n",
    "    * Definir un método estático *agregar_libro( )* que cree un objeto de la clase Libro, lo añada a una lista y la retorne\n",
    "    * Definir un método estático *mostrar_libros ( )* que reciba la lista de libros creados y muestre la información de cada libro"
   ]
  },
  {
   "cell_type": "markdown",
   "metadata": {},
   "source": [
    "1. **Definición de la Clase `Libro`:**\n",
    "   - La clase `Libro` representa un libro con tres atributos privados: título, autor y año de publicación.\n",
    "   - Estos atributos se inicializan en el constructor `__init__`, que recibe los valores correspondientes al crear una instancia de `Libro`.\n",
    "2. **Definición de la Clase `Biblioteca`:**\n",
    "   - La clase `Biblioteca` contiene dos métodos estáticos:\n",
    "     - **`agregar_libro`:** Este método estático se utiliza para crear una instancia de `Libro` y agregarla a una lista de libros. Recibe el título, el autor y el año de publicación del libro, así como la lista de libros a la que se debe agregar el nuevo libro.\n",
    "     - **`mostrar_libros`:** Este método estático se utiliza para mostrar los detalles de todos los libros en una lista. Imprime el título, el autor y el año de publicación de cada libro en la lista.\n",
    "3. **Uso de las Clases:**\n",
    "   - Se crea una lista vacía `libros` que se utilizará para almacenar los libros.\n",
    "   - Se utilizan los métodos estáticos de `Biblioteca` para agregar libros a la lista.\n",
    "   - Finalmente, se utiliza el método `mostrar_libros` para imprimir los detalles de todos los libros en la lista."
   ]
  },
  {
   "cell_type": "markdown",
   "metadata": {},
   "source": [
    "#### Explicación Detallada\n",
    "\n",
    "**Clase `Libro`:**\n",
    "\n",
    "- **Constructor (`__init__`):** \n",
    "  - Inicializa los atributos `__titulo`, `__autor` y `__año_publicacion` que son privados (indicado por los dos guiones bajos). Estos atributos se utilizan para almacenar la información básica de un libro.\n",
    "\n",
    "**Clase `Biblioteca`:**\n",
    "\n",
    "- **Método Estático `agregar_libro`:**\n",
    "  - **Propósito:** Crear una instancia de `Libro` con la información proporcionada y agregarla a la lista de libros.\n",
    "  - **Cómo Funciona:** Se crea un objeto `Libro` y se añade a la lista `libros`. La lista actualizada se devuelve.\n",
    "- **Método Estático `mostrar_libros`:**\n",
    "  - **Propósito:** Imprimir los detalles de todos los libros en la lista.\n",
    "  - **Cómo Funciona:** Se recorre la lista de libros, accediendo a los atributos privados utilizando la notación `_NombreClase__atributo` debido a la encapsulación. Se imprimen los detalles de cada libro.\n",
    "\n",
    "**Uso de la Clase `Biblioteca`:**\n",
    "\n",
    "- **Agregar Libros:** \n",
    "  - Se crean y agregan varios libros a la lista `libros` utilizando `Biblioteca.agregar_libro`.\n",
    "- **Mostrar Libros:** \n",
    "  - Se imprime la información de cada libro en la lista utilizando `Biblioteca.mostrar_libros`."
   ]
  },
  {
   "cell_type": "code",
   "execution_count": 19,
   "metadata": {},
   "outputs": [
    {
     "name": "stdout",
     "output_type": "stream",
     "text": [
      "Título: Cien años de soledad, \n",
      "Autor: Gabriel García Márquez, \n",
      "Año de publiación: 1967.\n",
      "Título: Fundación, \n",
      "Autor: Isaac Asimov, \n",
      "Año de publiación: 1951.\n",
      "Título: Harry Potter y la piedra filosofal, \n",
      "Autor: J.K. Rowling, \n",
      "Año de publiación: 1997.\n",
      "Título: Breve historia del tiempo, \n",
      "Autor: Stephen Hawking, \n",
      "Año de publiación: 1988.\n",
      "Título: Física Universitaria, \n",
      "Autor: Hugh D. Young, \n",
      "Año de publiación: 2015.\n"
     ]
    }
   ],
   "source": [
    "class Libro: #Clase con constructor\n",
    "    def __init__(self, titulo, autor, año_publicacion): # Constructor __init__\n",
    "        self.__titulo = titulo # Atributo Privado\n",
    "        self.__autor = autor # Atributo Privado\n",
    "        self.__año_publicacion = año_publicacion # Atributo Privado\n",
    "\n",
    "class Biblioteca: #Clase sin constructor\n",
    "    @staticmethod\n",
    "    def agregar_libro(titulo, autor, año_publicacion, libros): # Método estático\n",
    "        libro = Libro(titulo, autor, año_publicacion) # Objeto libro de la clase Libro. Se llama al constructor de la clase Libro\n",
    "        libros.append(libro) # Se añade a la lista libros\n",
    "        return libros\n",
    "\n",
    "    @staticmethod\n",
    "    def mostrar_libros(libros): # Método estático\n",
    "        for libro in libros: # Iterar en cada elemento de la lista libros\n",
    "            print(f\"Título: {libro._Libro__titulo}, \\nAutor: {libro._Libro__autor}, \\nAño de publiación: {libro._Libro__año_publicacion}.\")\n",
    "\n",
    "libros = [] # lista libros\n",
    "\n",
    "# Se llama al Método estático agregar_libro\n",
    "libros = Biblioteca.agregar_libro(\"Cien años de soledad\", \"Gabriel García Márquez\", 1967, libros)\n",
    "libros = Biblioteca.agregar_libro(\"Fundación\", \"Isaac Asimov\", 1951, libros)\n",
    "libros = Biblioteca.agregar_libro(\"Harry Potter y la piedra filosofal\", \"J.K. Rowling\", 1997, libros)\n",
    "libros = Biblioteca.agregar_libro(\"Breve historia del tiempo\", \"Stephen Hawking\", 1988, libros)\n",
    "libros = Biblioteca.agregar_libro(\"Física Universitaria\", \"Hugh D. Young\", 2015, libros)\n",
    "\n",
    "# Se llama al Método estático mostrar_libros\n",
    "Biblioteca.mostrar_libros(libros)"
   ]
  },
  {
   "cell_type": "markdown",
   "metadata": {},
   "source": [
    "## **PROPIEDADES DE CLASE**"
   ]
  },
  {
   "cell_type": "markdown",
   "metadata": {},
   "source": [
    "Las propiedades permiten controlar cómo se accede y modifica la información dentro de una clase. Así, se asegura de que los datos siempre se mantengan correctos y no se cambien de manera inapropiada.\n",
    "\n",
    "* Usar propiedades es como usar atributos normales (como objeto.nombre). Esto hace que el código sea más fácil de leer y trabajar.\n",
    "* Puedes añadir reglas para verificar que los datos sean correctos antes de guardarlos. Por ejemplo, asegurarte de que la edad de una persona siempre sea un número positivo.\n",
    "* Las propiedades hacen que el código sea más limpio y más fácil de entender, ya que se accede a los datos de forma más directa y natural."
   ]
  },
  {
   "cell_type": "markdown",
   "metadata": {},
   "source": [
    "Para usar propiedades en Python, se utilizan los decoradores @property y @\\<nombre>.setter. La sintaxis básica y los pasos para definir y usar propiedades en una clase es la siguiente:\n",
    "\n",
    "1. Definir la Propiedad: Primero, se debe definir un método de instancia que actuará como la propiedad. Se debe usar el decorador @property para indicar que este método debe ser tratado como una propiedad. Esto convierte el método en una propiedad de solo lectura.\n",
    "2. Definir el Setter (opcional): Si se necesita permitir que la propiedad sea modificable, se define un método adicional con el decorador @\\<nombre>.setter, donde \\<nombre> es el nombre de la propiedad. Esto permitirá definir cómo se asignan los valores a la propiedad."
   ]
  },
  {
   "cell_type": "markdown",
   "metadata": {},
   "source": [
    "#### Ejemplo: Uso de propiedades\n",
    "\n",
    "**Clase Triangulo**\n",
    "\n",
    "* Esta clase modela un triángulo con atributos de base y altura, y calcula su área.\n",
    "\n",
    "**Atributos Privados**\n",
    "\n",
    "- `__base`: Atributo privado para almacenar la base del triángulo.\n",
    "- `__altura`: Atributo privado para almacenar la altura del triángulo.\n",
    "\n",
    "**Métodos `property`**\n",
    "\n",
    "- **`@property` para `base`:**\n",
    "  - **Propósito:** Permite acceder al valor de `__base` como si fuera un atributo público.\n",
    "  - **Getter:** Devuelve el valor actual de `__base`.\n",
    "- **`@base.setter`:**\n",
    "  - **Propósito:** Permite modificar el valor de `__base`.\n",
    "  - **Setter:** Establece el valor de `__base` solo si es positivo. Si el valor es menor o igual a cero, lanza una excepción `ValueError`.\n",
    "- **`@property` para `altura`:**\n",
    "  - **Propósito:** Permite acceder al valor de `__altura` como si fuera un atributo público.\n",
    "  - **Getter:** Devuelve el valor actual de `__altura`.\n",
    "- **`@altura.setter`:**\n",
    "  - **Propósito:** Permite modificar el valor de `__altura`.\n",
    "  - **Setter:** Establece el valor de `__altura` solo si es positivo. Si el valor es menor o igual a cero, lanza una excepción `ValueError`.\n",
    "- **`@property` para `area`:**\n",
    "  - **Propósito:** Calcula y devuelve el área del triángulo utilizando los valores actuales de `base` y `altura`.\n",
    "  - **Getter:** Devuelve el resultado de la fórmula del área del triángulo: `base * altura / 2`."
   ]
  },
  {
   "cell_type": "code",
   "execution_count": 21,
   "metadata": {},
   "outputs": [],
   "source": [
    "class Triangulo:\n",
    "    def __init__(self, base, altura):\n",
    "        # Atributos privados\n",
    "        self.__base = base\n",
    "        self.__altura = altura\n",
    "\n",
    "    # Metodo de instancia convertido a una propiedad\n",
    "    @property \n",
    "    def base(self):\n",
    "        return self.__base\n",
    "\n",
    "    # Modificar valor\n",
    "    @base.setter\n",
    "    def base(self, valor):\n",
    "        if valor <= 0:\n",
    "            raise ValueError(\"La base debe ser un valor positivo\") #raise detiene el programa\n",
    "        self.__base = valor\n",
    "\n",
    "    # Propiedad para la altura\n",
    "    @property\n",
    "    def altura(self):\n",
    "        return self.__altura\n",
    "\n",
    "    @altura.setter\n",
    "    def altura(self, valor):\n",
    "        if valor <= 0:\n",
    "            raise ValueError(\"La altura debe ser un valor positivo\")\n",
    "        self.__altura = valor\n",
    "\n",
    "    @property\n",
    "    def area(self):\n",
    "        return (self.base * self.altura) / 2"
   ]
  },
  {
   "cell_type": "code",
   "execution_count": 25,
   "metadata": {},
   "outputs": [
    {
     "name": "stdout",
     "output_type": "stream",
     "text": [
      "10\n",
      "5\n",
      "25.0\n"
     ]
    }
   ],
   "source": [
    "tri = Triangulo(10, 5)\n",
    "# Con @property ya no se pone paréntesis para llamar al método de instancia\n",
    "print(tri.base)\n",
    "print(tri.altura)\n",
    "print(tri.area)"
   ]
  },
  {
   "cell_type": "code",
   "execution_count": 26,
   "metadata": {},
   "outputs": [
    {
     "name": "stdout",
     "output_type": "stream",
     "text": [
      "15\n",
      "10\n",
      "75.0\n"
     ]
    }
   ],
   "source": [
    "tri = Triangulo(10, 5)\n",
    "tri.base = 15\n",
    "tri.altura = 10\n",
    "print(tri.base)\n",
    "print(tri.altura)\n",
    "print(tri.area)"
   ]
  },
  {
   "cell_type": "markdown",
   "metadata": {},
   "source": [
    "**Si intentamos construir un objeto con un valor inválido, nos dará error**"
   ]
  },
  {
   "cell_type": "code",
   "execution_count": 30,
   "metadata": {},
   "outputs": [
    {
     "name": "stdout",
     "output_type": "stream",
     "text": [
      "-10\n",
      "5\n",
      "-25.0\n"
     ]
    }
   ],
   "source": [
    "tri = Triangulo(10, 5)\n",
    "tri.base = -15\n",
    "tri.altura = 10\n",
    "print(tri.base)\n",
    "print(tri.altura)\n",
    "print(tri.area)"
   ]
  },
  {
   "cell_type": "markdown",
   "metadata": {},
   "source": [
    "### Ejercicio: Crear una cuenta bancaria con propiedades\n",
    "\n",
    "Realizar lo siguiente:\n",
    "\n",
    "* Definir una clase *CuentaBancaria* con su constructor, que reciba el titular de la cuenta y el saldo\n",
    "* Definir las propiedades para obtener el valor de los atributos\n",
    "* Definir un setter para establecer un nuevo saldo (No se usará setter para el titular de la cuenta, ya que no queremos que el titular cambie). Realizar manejo de excepciones\n",
    "* Definir métodos de instancia para depositar y retirar. Además, definir otro método para ver la información de la cuenta"
   ]
  },
  {
   "cell_type": "markdown",
   "metadata": {},
   "source": [
    "**Explicación de la Clase `CuentaBancaria`**\n",
    "\n",
    "* La clase `CuentaBancaria` modela una cuenta bancaria simple con funcionalidades para gestionar el saldo, realizar depósitos y retiradas, y mostrar la información de la cuenta.\n",
    "\n",
    "**Atributos Privados**\n",
    "\n",
    "    - `__titular`: Atributo privado que almacena el nombre del titular de la cuenta.\n",
    "    - `__saldo`: Atributo privado que almacena el saldo de la cuenta.\n",
    "\n",
    "**Métodos**\n",
    "\n",
    "* `__init__(self, titular, saldo_inicial)`\n",
    "    - **Propósito:** Constructor de la clase `CuentaBancaria`. Inicializa los atributos `__titular` y `__saldo` de la cuenta.\n",
    "    - **Parámetros:**\n",
    "      - `titular`: Nombre del titular de la cuenta.\n",
    "      - `saldo_inicial`: Saldo inicial de la cuenta.\n",
    "    - **Comportamiento:** Establece el titular y el saldo inicial de la cuenta. `__saldo` se establece en 0 inicialmente, y el saldo inicial se asigna mediante el setter `saldo`.\n",
    "* `@property def titular(self)`\n",
    "    - **Propósito:** Permite acceder al atributo `__titular` como si fuera un atributo público.\n",
    "    - **Getter:** Devuelve el valor del atributo privado `__titular`.\n",
    "* `@property def saldo(self)`\n",
    "    - **Propósito:** Permite acceder al atributo `__saldo` como si fuera un atributo público.\n",
    "    - **Getter:** Devuelve el valor del atributo privado `__saldo`.\n",
    "* `@saldo.setter def saldo(self, nuevo_saldo)`\n",
    "    - **Propósito:** Permite modificar el valor del atributo `__saldo`.\n",
    "    - **Setter:** Establece el valor de `__saldo` solo si el nuevo saldo es mayor o igual a 0. Si el saldo es negativo, lanza una excepción `ValueError`.\n",
    "* `def depositar(self, cantidad)`\n",
    "\n",
    "    - **Propósito:** Permite realizar un depósito en la cuenta.\n",
    "    - **Parámetro:**\n",
    "      - `cantidad`: Monto a depositar.\n",
    "    - **Comportamiento:** Aumenta el saldo de la cuenta si la cantidad es positiva. Lanza una excepción `ValueError` si la cantidad es negativa.\n",
    "* `def retirar(self, cantidad)`\n",
    "    - **Propósito:** Permite retirar una cantidad de la cuenta.\n",
    "    - **Parámetro:**\n",
    "      - `cantidad`: Monto a retirar.\n",
    "    - **Comportamiento:** Reduce el saldo de la cuenta si la cantidad es positiva y suficiente para cubrir el retiro. Lanza excepciones `ValueError` si la cantidad es negativa o si hay fondos insuficientes.\n",
    "* `def mostrar_info(self)`\n",
    "    - **Propósito:** Muestra la información de la cuenta.\n",
    "    - **Comportamiento:** Imprime el titular y el saldo de la cuenta."
   ]
  },
  {
   "cell_type": "code",
   "execution_count": 31,
   "metadata": {},
   "outputs": [],
   "source": [
    "class CuentaBancaria:\n",
    "    def __init__(self, titular, saldo_inicial): # Constructor\n",
    "        self.__titular = titular # Atributo privado\n",
    "        self.__saldo = 0 # Atributo privado\n",
    "        self.saldo = saldo_inicial \n",
    "\n",
    "    @property\n",
    "    def titular(self):\n",
    "        return self.__titular\n",
    "\n",
    "    @property\n",
    "    def saldo(self):\n",
    "        return self.__saldo\n",
    "\n",
    "    # Modificar saldo\n",
    "    @saldo.setter\n",
    "    def saldo(self, nuevo_saldo):\n",
    "        try:\n",
    "            if nuevo_saldo >= 0:\n",
    "                self.__saldo = nuevo_saldo\n",
    "            else:\n",
    "                raise ValueError(\"El saldo no puede ser negativo\")\n",
    "        except ValueError as e:\n",
    "            print(f\"Error al establecer el saldo: {e}\")\n",
    "\n",
    "    # Método de instancia\n",
    "    def depositar(self, cantidad):\n",
    "        try:\n",
    "            if cantidad > 0:\n",
    "                self.__saldo += cantidad\n",
    "                print(f\"Depositado: {cantidad}. Saldo actual: {self.__saldo}\")\n",
    "            else:\n",
    "                raise ValueError(\"La cantidad a depositar debe ser positiva\")\n",
    "        except ValueError as e:\n",
    "            print(f\"Error al depositar: {e}\")\n",
    "\n",
    "    # Método de instancia\n",
    "    def retirar(self, cantidad):\n",
    "        try:\n",
    "            if cantidad > 0:\n",
    "                if cantidad <= self.__saldo:\n",
    "                    self.__saldo -= cantidad\n",
    "                    print(f\"Retirado: {cantidad}. Saldo actual: {self.__saldo}\")\n",
    "                else:\n",
    "                    raise ValueError(\"Fondos insuficientes para la transacción\")\n",
    "            else:\n",
    "                raise ValueError(\"La cantidad a retirar debe ser positiva\")\n",
    "        except ValueError as e:\n",
    "            print(f\"Error al retirar: {e}\")\n",
    "\n",
    "    # Método de instancia\n",
    "    def mostrar_info(self):\n",
    "        print(f\"Titular: {self.titular}\")\n",
    "        print(f\"Saldo: {self.saldo}\")"
   ]
  },
  {
   "cell_type": "code",
   "execution_count": 39,
   "metadata": {},
   "outputs": [
    {
     "name": "stdout",
     "output_type": "stream",
     "text": [
      "Titular: José Ortega\n",
      "Saldo: 1000\n",
      "Depositado: 400. Saldo actual: 1400\n",
      "Error al retirar: Fondos insuficientes para la transacción\n",
      "Titular: José Ortega\n",
      "Saldo: 1400\n"
     ]
    }
   ],
   "source": [
    "cuenta = CuentaBancaria(\"José Ortega\", 1000)\n",
    "cuenta.mostrar_info()\n",
    "\n",
    "cuenta.depositar(400)\n",
    "cuenta.retirar(1500)\n",
    "\n",
    "cuenta.mostrar_info()"
   ]
  },
  {
   "cell_type": "markdown",
   "metadata": {},
   "source": [
    "## **HERENCIA**"
   ]
  },
  {
   "cell_type": "code",
   "execution_count": null,
   "metadata": {},
   "outputs": [],
   "source": [
    "# HERENCIA\n",
    "# Se puede crear una nueva clase \"HIJA\" a partir de una clase \"PADRE\",\n",
    "# donde la clase \"HIJA\" podrá usar todos los métodos de la clase \"PADRE\".\n",
    "\n",
    "# Clase: PADRE\n",
    "class DataSet:\n",
    "\n",
    "    def __init__(self,data):\n",
    "        self.data =  data\n",
    "        self.tamaño = len(data)\n",
    "\n",
    "    # Método para encotrar la media\n",
    "    def media(self): \n",
    "        \"\"\"Devuelve la media de los datos.\"\"\"\n",
    "        return sum(self.data) / len(self.data)"
   ]
  },
  {
   "cell_type": "code",
   "execution_count": null,
   "metadata": {},
   "outputs": [],
   "source": [
    "# Clase: HIJO\n",
    "class DataSetPlus(DataSet): # Clase tiene como parámetro a la clase PADRE \n",
    "    #Método para encontrar la desviación estándar\n",
    "    def desviacion_estandar(self):\n",
    "        mu = self.media()\n",
    "        return (sum((x - mu) ** 2 for x in self.data) / self.tamaño) ** 0.5"
   ]
  },
  {
   "cell_type": "code",
   "execution_count": null,
   "metadata": {},
   "outputs": [],
   "source": [
    "datos = DataSet([3,5,8])"
   ]
  },
  {
   "cell_type": "code",
   "execution_count": null,
   "metadata": {},
   "outputs": [],
   "source": [
    "#datos.media()\n",
    "datos.desviacion_estandar() # Sale error ya que la clase \"DataSet\" no tiene el método \"desviacion_estandar\""
   ]
  },
  {
   "cell_type": "code",
   "execution_count": null,
   "metadata": {},
   "outputs": [],
   "source": [
    "datosplus = DataSetPlus([3,5,8])"
   ]
  },
  {
   "cell_type": "code",
   "execution_count": null,
   "metadata": {},
   "outputs": [
    {
     "data": {
      "text/plain": [
       "2.0548046676563256"
      ]
     },
     "metadata": {},
     "output_type": "display_data"
    }
   ],
   "source": [
    "datosplus.desviacion_estandar()"
   ]
  },
  {
   "cell_type": "code",
   "execution_count": 3,
   "metadata": {},
   "outputs": [
    {
     "name": "stdout",
     "output_type": "stream",
     "text": [
      "Número de puertas: 4\n",
      "Marca: Toyota, Modelo: Corolla\n",
      "El tipo de la motocicleta es: Full\n",
      "Marca: Kwasaki, Modelo: KP500\n"
     ]
    }
   ],
   "source": [
    "# Super Clase\n",
    "class Vehiculo:\n",
    "    def __init__(self, marca, modelo):\n",
    "        self.__marca = marca\n",
    "        self.__modelo = modelo\n",
    "    \n",
    "    def informacion(self):\n",
    "        print(f\"Marca: {self.__marca}, Modelo: {self.__modelo}\")\n",
    "        \n",
    "# Sub Clase\n",
    "class Coche(Vehiculo):\n",
    "    def __init__(self, marca, modelo, numero_puerta):\n",
    "        Vehiculo.__init__(self, marca, modelo)\n",
    "        self.__numero_puertas = numero_puerta\n",
    "        \n",
    "    def mostrar_puertas(self):\n",
    "        print(f\"Número de puertas: {self.__numero_puertas}\")\n",
    "        \n",
    "#Sub Clase\n",
    "class Motocicleta(Vehiculo):\n",
    "    def __init__(self, marca, modelo, tipo):\n",
    "        Vehiculo.__init__(self, marca, modelo)\n",
    "        self.__tipo = tipo\n",
    "        \n",
    "    def mostrar_tipo(self):\n",
    "        print(f\"El tipo de la motocicleta es: {self.__tipo}\")\n",
    "        \n",
    "# Instancias\n",
    "mi_coche = Coche(\"Toyota\", \"Corolla\", 4)\n",
    "mi_motocicleta = Motocicleta(\"Kwasaki\", \"KP500\", \"Full\")\n",
    "\n",
    "mi_coche.mostrar_puertas()\n",
    "mi_coche.informacion()\n",
    "mi_motocicleta.mostrar_tipo()\n",
    "mi_motocicleta.informacion()"
   ]
  },
  {
   "cell_type": "markdown",
   "metadata": {},
   "source": [
    "## **SOBREESCRITURA DE METODOS**"
   ]
  },
  {
   "cell_type": "markdown",
   "metadata": {},
   "source": [
    "En POO la sobreescritura se refiere al proceso en el cual una clase derivada redefine un método de su clase base. Esto permite que la clase derivada proporcione una implementación específica del método que reemplaza o extiende el comportamiento definido en la clase base."
   ]
  },
  {
   "cell_type": "code",
   "execution_count": 1,
   "metadata": {},
   "outputs": [
    {
     "name": "stdout",
     "output_type": "stream",
     "text": [
      "Elena hace guau\n",
      "La raza es Elena es Pator Alemán\n"
     ]
    }
   ],
   "source": [
    "# Clase base\n",
    "class Animal:\n",
    "    def hablar(self):\n",
    "        print(f\"{self.__nombre} hace un sonido\")\n",
    "\n",
    "# Clase derivada\n",
    "class Perro(Animal):\n",
    "    def __init__(self, nombre, raza):\n",
    "        self.__nombre = nombre\n",
    "        self.__raza = raza\n",
    "        \n",
    "    def hablar(self):\n",
    "        print(f\"{self.__nombre} hace guau\")\n",
    "\n",
    "    def mostrar_raza(self):\n",
    "        print(f\"La raza es {self.__nombre} es {self.__raza}\")\n",
    "        \n",
    "mi_perro = Perro(\"Elena\", \"Pator Alemán\")\n",
    "\n",
    "mi_perro.hablar()\n",
    "mi_perro.mostrar_raza()"
   ]
  },
  {
   "cell_type": "markdown",
   "metadata": {},
   "source": [
    "## **HERENCIA MULTIPLE**"
   ]
  },
  {
   "cell_type": "markdown",
   "metadata": {},
   "source": [
    "Permite que una clase herede de más de una clase base \"Padre\". Esto significa que una subclase puede tener múltiples subclases y, por lo tanto, puede heredar atributos y métodos de todas ellas."
   ]
  },
  {
   "cell_type": "code",
   "execution_count": 6,
   "metadata": {},
   "outputs": [
    {
     "name": "stdout",
     "output_type": "stream",
     "text": [
      "Jack hace el siguiente sonido\n",
      "Guau\n",
      "Jack es propiedad de Dar\n"
     ]
    }
   ],
   "source": [
    "# Primera clase base\n",
    "class Animal:\n",
    "    def __init__(self, nombre):\n",
    "        self.__nombre = nombre\n",
    "        \n",
    "    @property\n",
    "    def nombre(self):\n",
    "        return self.__nombre\n",
    "    \n",
    "    def hablar(self):\n",
    "        print(f\"{self.nombre} hace el siguiente sonido\")\n",
    "        \n",
    "# Segunda clase base\n",
    "class Mascota:\n",
    "    def __init__(self, dueño):\n",
    "        self.__dueño = dueño\n",
    "    \n",
    "    @property\n",
    "    def dueño(self):\n",
    "        return self.__dueño\n",
    "    \n",
    "    @dueño.setter\n",
    "    def dueño(self, nuevo_dueño):\n",
    "        self.__dueño = nuevo_dueño\n",
    "        \n",
    "    def mostrar_dueño(self):\n",
    "        print(f\"{self.nombre} es propiedad de {self.dueño}\")\n",
    "\n",
    "# Sub clase o clase derivada\n",
    "class Perro(Animal, Mascota):\n",
    "    def __init__(self, nombre, dueño, raza):\n",
    "        Animal.__init__(self, nombre)\n",
    "        Mascota.__init__(self, dueño)\n",
    "        self.__raza = raza\n",
    "    \n",
    "    @property\n",
    "    def raza(self):\n",
    "        return self.__raza\n",
    "    \n",
    "    def hablar(self):\n",
    "        super().hablar()\n",
    "        print(\"Guau\")\n",
    "\n",
    "\n",
    "mi_perro = Perro(\"Jack\", \"Dar\", \"Catellano\")\n",
    "mi_perro.hablar()\n",
    "mi_perro.mostrar_dueño()"
   ]
  },
  {
   "cell_type": "markdown",
   "metadata": {},
   "source": [
    "## **POLIMORFISMO**"
   ]
  },
  {
   "cell_type": "code",
   "execution_count": null,
   "metadata": {},
   "outputs": [],
   "source": [
    "# Permite modificar los métodos existentes de la clase \"PADRE\".\n",
    "class DataSet8(DataSet):\n",
    "    def media(self):\n",
    "        \"\"\"Devuelve la media de los datos.\"\"\"\n",
    "        print(\"Estoy calculando la media\")\n",
    "        return sum(self.data) / len(self.data) "
   ]
  },
  {
   "cell_type": "code",
   "execution_count": null,
   "metadata": {},
   "outputs": [],
   "source": [
    "datos1 = DataSet8([3,5,8])"
   ]
  },
  {
   "cell_type": "code",
   "execution_count": null,
   "metadata": {},
   "outputs": [
    {
     "name": "stdout",
     "output_type": "stream",
     "text": [
      "Estoy calculando la media\n"
     ]
    },
    {
     "data": {
      "text/plain": [
       "5.333333333333333"
      ]
     },
     "metadata": {},
     "output_type": "display_data"
    }
   ],
   "source": [
    "datos1.media()"
   ]
  },
  {
   "cell_type": "code",
   "execution_count": null,
   "metadata": {},
   "outputs": [
    {
     "data": {
      "text/plain": [
       "5.333333333333333"
      ]
     },
     "metadata": {},
     "output_type": "display_data"
    }
   ],
   "source": [
    "datos.media()"
   ]
  },
  {
   "cell_type": "markdown",
   "metadata": {},
   "source": [
    "## **POLIMORFISMO DE METOOS**"
   ]
  },
  {
   "cell_type": "markdown",
   "metadata": {},
   "source": [
    "Permite a los objetos de diferentes clases responder al mismo conjunto de métodos de maneras específicas y distintas según su tipo. El polimorfismo permite que un solo método se comporte de manera diferente según el objeto que lo esté utilizando."
   ]
  },
  {
   "cell_type": "markdown",
   "metadata": {},
   "source": [
    "**El siguiente código muestra un ejemplo de polimorfismo en Python, donde diferentes clases derivadas implementan el mismo método de manera específica. El polimorfismo permite que el mismo método se comporte de manera diferente según el tipo de objeto que lo invoque.**\n",
    "\n",
    "**Clase Base: `Animal`**\n",
    "\n",
    "* `def hablar(self)`\n",
    "    - **Propósito:** Define una interfaz común para todos los animales, especificando que el método `hablar()` debe ser implementado por las subclases.\n",
    "    - **Implementación:** Lanza una excepción `NotImplementedError` para indicar que las subclases deben proporcionar su propia implementación del método `hablar()`.\n",
    "\n",
    "**Clase Derivada 1: `Perro`**\n",
    "\n",
    "* `def hablar(self)`\n",
    "    - **Propósito:** Implementa el método `hablar()` para la clase `Perro`.\n",
    "    - **Implementación:** Devuelve la cadena `\"¡Guau!\"`, que es el sonido característico que hace un perro.\n",
    "\n",
    "**Clase Derivada 2: `Gato`**\n",
    "\n",
    "* `def hablar(self)`\n",
    "    - **Propósito:** Implementa el método `hablar()` para la clase `Gato`.\n",
    "    - **Implementación:** Devuelve la cadena `\"¡Miau!\"`, que es el sonido característico que hace un gato.\n",
    "\n",
    "**Clase Derivada 3: `Vaca`**\n",
    "\n",
    "* `def hablar(self)`\n",
    "    - **Propósito:** Implementa el método `hablar()` para la clase `Vaca`.\n",
    "    - **Implementación:** Devuelve la cadena `\"¡Muu!\"`, que es el sonido característico que hace una vaca.\n",
    "\n",
    "**Función que Utiliza Polimorfismo**\n",
    "\n",
    "* `def hacer_hablar(animal)`\n",
    "    - **Propósito:** Acepta un objeto de tipo `Animal` (o una de sus subclases) y llama al método `hablar()` de ese objeto.\n",
    "    - **Implementación:**\n",
    "      - Llama al método `hablar()` del objeto `animal`.\n",
    "      - Imprime el resultado del método `hablar()`.\n"
   ]
  },
  {
   "cell_type": "code",
   "execution_count": 7,
   "metadata": {},
   "outputs": [
    {
     "name": "stdout",
     "output_type": "stream",
     "text": [
      "¡Guau!\n",
      "¡Miau!\n",
      "¡Muu!\n"
     ]
    }
   ],
   "source": [
    "# Clase base\n",
    "class Animal:\n",
    "    def hablar(self):\n",
    "        raise NotImplementedError(\"El método hablar() debe \\\n",
    " ser implementado por las subclases\")\n",
    "\n",
    "# Clase derivada 1\n",
    "class Perro(Animal):\n",
    "    def hablar(self):\n",
    "        return \"¡Guau!\"\n",
    "\n",
    "# Clase derivada 2\n",
    "class Gato(Animal):\n",
    "    def hablar(self):\n",
    "        return \"¡Miau!\"\n",
    "\n",
    "# Clase derivada 3\n",
    "class Vaca(Animal):\n",
    "    def hablar(self):\n",
    "        return \"¡Muu!\"\n",
    "\n",
    "# Función que utiliza polimorfismo\n",
    "def hacer_hablar(animal):\n",
    "    print(animal.hablar())\n",
    "\n",
    "# Crear instancias\n",
    "mi_perro = Perro()\n",
    "mi_gato = Gato()\n",
    "mi_vaca = Vaca()\n",
    "\n",
    "# Llamar a la función hacer_hablar() con difernetes tipos de animales\n",
    "hacer_hablar(mi_perro)\n",
    "hacer_hablar(mi_gato)\n",
    "hacer_hablar(mi_vaca)"
   ]
  },
  {
   "cell_type": "markdown",
   "metadata": {},
   "source": [
    "## **POLIMORFISMO CON ARGUMENTOS VARIABLES**"
   ]
  },
  {
   "cell_type": "markdown",
   "metadata": {},
   "source": [
    "El polimorfismo con argumentos variables permite que métodos en diferentes clases acepten un número variable de argumentos, ya sea posicionales o de palabra clave\n",
    "\n",
    "Uso de **args* y ***kwargs*:\n",
    "\n",
    "* **args:* Permite que una función o método acepte un número variable de argumentos posicionales.\n",
    "* ***kwargs*: Permite que una función o método acepte un número variable de argumentos de palabra clave."
   ]
  },
  {
   "cell_type": "markdown",
   "metadata": {},
   "source": [
    "**El siguiente código muestra un ejemplo de polimorfismo utilizando argumentos variables (`*args` y `**kwargs`). En este caso, se usa el polimorfismo para manejar diferentes tipos de operaciones con una interfaz común, permitiendo que diferentes clases derivadas procesen los datos de manera específica.**\n",
    "\n",
    "**Clase Base: `Operacion`**\n",
    "\n",
    "* `def procesar(self, *args, **kwargs)`\n",
    "    - **Propósito:** Define una interfaz común para todas las operaciones, especificando que el método `procesar()` debe ser implementado por las subclases.\n",
    "    - **Implementación:** Lanza una excepción `NotImplementedError` para indicar que las subclases deben proporcionar su propia implementación del método `procesar()`.\n",
    "\n",
    "**Clase Derivada 1: `Suma`**\n",
    "\n",
    "* `def procesar(self, *args, **kwargs)`\n",
    "    - **Propósito:** Implementa el método `procesar()` para realizar una suma de los argumentos.\n",
    "    - **Implementación:**\n",
    "      - Utiliza `sum(args)` para calcular la suma de todos los argumentos numéricos.\n",
    "      - Usa `kwargs.get('mensaje', 'Resultado de la suma:')` para obtener un mensaje opcional que se muestra junto con el resultado.\n",
    "      - Devuelve un string con el mensaje y el total de la suma.\n",
    "\n",
    "**Clase Derivada 2: `Multiplicar`**\n",
    "\n",
    "* `def procesar(self, *args, **kwargs)`\n",
    "    - **Propósito:** Implementa el método `procesar()` para realizar una multiplicación de los argumentos.\n",
    "    - **Implementación:**\n",
    "      - Utiliza `reduce(lambda x, y: x * y, args)` para calcular el producto de todos los argumentos numéricos.\n",
    "      - Usa `kwargs.get('mensaje', 'Resultado de la multiplicación:')` para obtener un mensaje opcional que se muestra junto con el resultado.\n",
    "      - Devuelve un string con el mensaje y el total de la multiplicación.\n",
    "\n",
    "**Clase Derivada 3: `Concatenar`**\n",
    "\n",
    "* `def procesar(self, *args, **kwargs)`\n",
    "    - **Propósito:** Implementa el método `procesar()` para concatenar cadenas.\n",
    "    - **Implementación:**\n",
    "      - Utiliza `''.join(args)` para concatenar todos los argumentos de tipo cadena.\n",
    "      - Usa `kwargs.get('separador', '')` para obtener un separador opcional que se coloca entre las cadenas.\n",
    "      - Usa `kwargs.get('sufijo', '')` para obtener un sufijo opcional que se añade al final de la cadena concatenada.\n",
    "      - Devuelve la cadena concatenada con el separador y sufijo opcionales.\n",
    "\n",
    "**Función que Utiliza Polimorfismo con Argumentos Variables**\n",
    "\n",
    "* `def realizar_operacion(operacion, *args, **kwargs)`\n",
    "    - **Propósito:** Acepta un objeto de tipo `Operacion` (o una de sus subclases) y llama al método `procesar()` de ese objeto con argumentos variables.\n",
    "    - **Implementación:**\n",
    "      - Llama al método `procesar()` del objeto `operacion`, pasando todos los argumentos y palabras clave.\n",
    "      - Imprime el resultado del método `procesar()`."
   ]
  },
  {
   "cell_type": "markdown",
   "metadata": {},
   "source": [
    "**Detalles adicionales:**\n",
    "\n",
    "* En el código, Suma, Multiplicar y Concatenar son clases derivadas que implementan el método procesar() de manera específica, pero todas utilizan argumentos variables (*args y **kwargs).\n",
    "La función realizar_operacion() demuestra el uso del polimorfismo, permitiendo que diferentes tipos de operaciones se realicen con la misma interfaz de llamada, sin necesidad de conocer los detalles específicos de cada operación.\n",
    "* El uso de *args permite que las clases derivadas acepten un número variable de argumentos, y **kwargs permite opciones adicionales configurables. Esto proporciona una interfaz flexible y extensible para procesar datos de manera consistente."
   ]
  },
  {
   "cell_type": "code",
   "execution_count": null,
   "metadata": {},
   "outputs": [
    {
     "name": "stdout",
     "output_type": "stream",
     "text": [
      "Resultado: Suma de los números: 10\n",
      "Resultado: Multiplicación de los números: 24\n",
      "Resultado: Hola Mundo Python!\n"
     ]
    }
   ],
   "source": [
    "from functools import reduce\n",
    "\n",
    "# Clase base\n",
    "class Operacion:\n",
    "    def procesar(self, *args, **kwargs):\n",
    "        raise NotImplementedError(\"Subclases deben implementar este método\")\n",
    "\n",
    "# Clase derivada 1: Suma\n",
    "class Suma(Operacion):\n",
    "    def procesar(self, *args, **kwargs):\n",
    "        total = sum(args)\n",
    "        mensaje = kwargs.get('mensaje', 'Resultado de la suma:')\n",
    "        return f\"{mensaje} {total}\"\n",
    "\n",
    "# Clase derivada 2: Concatenar\n",
    "class Multiplicar(Operacion):\n",
    "    def procesar(self, *args, **kwargs):\n",
    "        total = reduce(lambda x, y: x * y, args)\n",
    "        mensaje = kwargs.get('mensaje', 'Resultado de la multiplicación:')\n",
    "        return f\"{mensaje} {total}\"\n",
    "\n",
    "# Clase derivada 2: Concatenar\n",
    "class Concatenar(Operacion):\n",
    "    def procesar(self, *args, **kwargs):\n",
    "        concatenado = ''.join(args)\n",
    "        separador = kwargs.get('separador', '')\n",
    "        return separador.join(args) + kwargs.get('sufijo', '')\n",
    "\n",
    "# Función que utiliza el polimorfismo con argumentos variables\n",
    "def realizar_operacion(operacion, *args, **kwargs):\n",
    "    resultado = operacion.procesar(*args, **kwargs)\n",
    "    print(f\"Resultado: {resultado}\")\n",
    "\n",
    "# Crear instancias de las clases derivadas\n",
    "suma = Suma()\n",
    "mult = Multiplicar()\n",
    "concatenar = Concatenar()\n",
    "\n",
    "# Llamar a la función con diferentes tipos de operaciones y argumentos variables\n",
    "realizar_operacion(suma, 1, 2, 3, 4, \n",
    "                   mensaje=\"Suma de los números:\") \n",
    "realizar_operacion(mult, 1, 2, 3, 4, \n",
    "                   mensaje=\"Multiplicación de los números:\")  \n",
    "realizar_operacion(concatenar, 'Hola', 'Mundo', 'Python', \n",
    "                   separador=' ', sufijo='!') "
   ]
  },
  {
   "cell_type": "markdown",
   "metadata": {},
   "source": [
    "## **POLIMORFISMO DE OPERADORES**"
   ]
  },
  {
   "cell_type": "markdown",
   "metadata": {},
   "source": [
    "El polimorfismo de operadores en programación orientada a objetos se refiere a la capacidad de las clases para definir o sobrescribir cómo los operadores estándar (como +, -, *, etc.) se comportan cuando se aplican a instancias de esas clases. En otras palabras, permite que las instancias de una clase respondan a operadores de una manera personalizada y específica para esa clase. Esto se logra mediante la implementación de métodos especiales en una clase. Estos métodos se llaman \"métodos mágicos\" o \"métodos especiales\".\n",
    "\n",
    "**Métodos Mágicos para Operadores Aritméticos**\n",
    "\n",
    "* \\_\\_add__(self, other): Suma (+)\n",
    "* \\_\\_sub__(self, other): Resta (-)\n",
    "* \\_\\_mul__(self, other): Multiplicación (*)\n",
    "* \\_\\_truediv__(self, other): División (/)\n",
    "* \\_\\_floordiv__(self, other): División entera (//)\n",
    "* \\_\\_mod__(self, other): Módulo (%)\n",
    "* \\_\\_pow__(self, other): Potencia (**)\n",
    "\n",
    "**Métodos Mágicos para Operadores de Comparación**\n",
    "\n",
    "* \\_\\_eq__(self, other): Igual a (==)\n",
    "* \\_\\_ne__(self, other): Diferente de (!=)\n",
    "* \\_\\_lt__(self, other): Menor que (<)\n",
    "* \\_\\_le__(self, other): Menor o igual que (<=)\n",
    "* \\_\\_gt__(self, other): Mayor que (>)\n",
    "* \\_\\_ge__(self, other): Mayor o igual que (>=)\n",
    "\n",
    "***Y muchos más...***\n",
    "\n",
    "**other* es un parámetro que representa el segundo operando en una operación binaria*"
   ]
  },
  {
   "cell_type": "markdown",
   "metadata": {},
   "source": [
    "**El siguiente código muestra cómo implementar el polimorfismo de operadores en Python mediante la sobrescritura de los métodos especiales `__add__`, `__sub__`, y `__mul__` en la clase `Vector`. Este enfoque permite que los operadores matemáticos estándar se utilicen con instancias de la clase `Vector`, proporcionando una forma intuitiva de manipular vectores.**\n",
    "\n",
    "**Clase `Vector`**\n",
    "\n",
    "* `def __init__(self, x, y)`\n",
    "    - **Propósito:** Inicializa una instancia de la clase `Vector` con las coordenadas `x` y `y`.\n",
    "    - **Parámetros:**\n",
    "      - `x` (float/int): Coordenada en el eje X.\n",
    "      - `y` (float/int): Coordenada en el eje Y.\n",
    "* `def __add__(self, other)`\n",
    "    - **Propósito:** Sobrescribe el operador `+` para permitir la suma de dos vectores.\n",
    "    - **Parámetros:**\n",
    "      - `other` (Vector): Otro objeto de la clase `Vector` con el que se realiza la suma.\n",
    "    - **Implementación:**\n",
    "      - Retorna un nuevo objeto `Vector` cuya coordenada `x` es la suma de las coordenadas `x` de los dos vectores, y cuya coordenada `y` es la suma de las coordenadas `y` de los dos vectores.\n",
    "* `def __sub__(self, other)`\n",
    "    - **Propósito:** Sobrescribe el operador `-` para permitir la resta de dos vectores.\n",
    "    - **Parámetros:**\n",
    "      - `other` (Vector): Otro objeto de la clase `Vector` con el que se realiza la resta.\n",
    "    - **Implementación:**\n",
    "      - Retorna un nuevo objeto `Vector` cuya coordenada `x` es la diferencia entre las coordenadas `x` de los dos vectores, y cuya coordenada `y` es la diferencia entre las coordenadas `y` de los dos vectores.\n",
    "* `def __mul__(self, scalar)`\n",
    "    - **Propósito:** Sobrescribe el operador `*` para permitir la multiplicación de un vector por un escalar.\n",
    "    - **Parámetros:**\n",
    "      - `scalar` (float/int): Un número que se multiplica con las coordenadas del vector.\n",
    "    - **Implementación:**\n",
    "      - Retorna un nuevo objeto `Vector` cuya coordenada `x` es el producto de la coordenada `x` del vector por el escalar, y cuya coordenada `y` es el producto de la coordenada `y` del vector por el escalar.\n",
    "* `def __repr__(self)`\n",
    "    - **Propósito:** Sobrescribe el método `__repr__` para proporcionar una representación detallada del vector.\n",
    "    - **Implementación:**\n",
    "      - Devuelve una cadena que muestra las coordenadas del vector en el formato `(x, y)`. Este método es útil para la depuración y para mostrar una representación clara del objeto en la consola."
   ]
  },
  {
   "cell_type": "code",
   "execution_count": 8,
   "metadata": {},
   "outputs": [
    {
     "name": "stdout",
     "output_type": "stream",
     "text": [
      "v1: (1, 2)\n",
      "v2: (3, 4)\n",
      "(1, 2) + (3, 4) = (4, 6)\n",
      "(1, 2) - (3, 4) = (-2, -2)\n",
      "(1, 2) * 3 = (3, 6)\n"
     ]
    }
   ],
   "source": [
    "# Definir una clase Vector que usa polimorfismo de operadores\n",
    "class Vector:\n",
    "    def __init__(self, x, y):\n",
    "        self.x = x\n",
    "        self.y = y\n",
    "\n",
    "    # Sobrescribir el operador +\n",
    "    def __add__(self, other):\n",
    "        return Vector(self.x + other.x, self.y + other.y)\n",
    "\n",
    "    # Sobrescribir el operador -\n",
    "    def __sub__(self, other):\n",
    "        return Vector(self.x - other.x, self.y - other.y)\n",
    "\n",
    "    # Sobrescribir el operador *\n",
    "    def __mul__(self, scalar):\n",
    "        return Vector(self.x * scalar, self.y * scalar)\n",
    "\n",
    "    # Sobrescribir el método __repr__ para imprimir el Vector\n",
    "    def __repr__(self): # __repr__(self): Representación detallada (repr(obj))\n",
    "        return f\"({self.x}, {self.y})\"\n",
    "\n",
    "# Crear instancias de la clase Vector\n",
    "v1 = Vector(1, 2)\n",
    "v2 = Vector(3, 4)\n",
    "\n",
    "# Usar los operadores definidos en la clase Vector\n",
    "v3 = v1 + v2    # Utiliza __add__\n",
    "v4 = v1 - v2    # Utiliza __sub__\n",
    "v5 = v1 * 3     # Utiliza __mul__\n",
    "\n",
    "# Imprimir los resultados\n",
    "print(f\"v1: {v1}\")       # Imprime: Vector(1, 2)\n",
    "print(f\"v2: {v2}\")       # Imprime: Vector(1, 2)\n",
    "print(f\"{v1} + {v2} = {v3}\")       # Imprime: Vector(1, 2)\n",
    "print(f\"{v1} - {v2} = {v4}\")       # Imprime: Vector(1, 2)\n",
    "print(f\"{v1} * 3 = {v5}\")       # Imprime: Vector(1, 2)"
   ]
  },
  {
   "cell_type": "markdown",
   "metadata": {},
   "source": [
    "## **ENCAPSULAMIENTO Y ABSTRACCION**"
   ]
  },
  {
   "cell_type": "code",
   "execution_count": null,
   "metadata": {},
   "outputs": [],
   "source": [
    "# ENCAPSULAMIENTO\n",
    "# Se refiere a la agrupación de datos con los métodos que operan en esos datos\n",
    "# Restringe el acceso directo a algunos de los componentes del objeto\n",
    "# Y puede prevenir la modificación accidentental de los datos.\n",
    "# En PYTHON NO hay una forma de encapsulamiento como en otros lenguajes\n",
    "# Se sigue la nomencatura \"._\" para especificar que es un atributo \"PRIVADO\".\n",
    "\n",
    "class DataSet:\n",
    "\n",
    "    def __init__(self, data):\n",
    "        self._data = data  # \"._\" Indica que es un Atributo de uso interno\n",
    "        self._tamaño = len(data)\n",
    "\n",
    "    def media(self):\n",
    "        return sum(self._data) / self._tamaño\n",
    "\n",
    "    def varianza(self):\n",
    "        mu = self.media()\n",
    "        return sum((x - mu) ** 2 for x in self._data) / self._tamaño\n",
    "\n",
    "    # Método para obtener el data \"privado\"\n",
    "    def obtener_data(self):\n",
    "        return self._data.copy()  # Devuelve una copia para proteger el atributo original"
   ]
  },
  {
   "cell_type": "code",
   "execution_count": null,
   "metadata": {},
   "outputs": [],
   "source": [
    "datos = DataSet([4,3,7])"
   ]
  },
  {
   "cell_type": "code",
   "execution_count": null,
   "metadata": {},
   "outputs": [],
   "source": [
    "datos.obtener_data()"
   ]
  },
  {
   "cell_type": "code",
   "execution_count": null,
   "metadata": {},
   "outputs": [],
   "source": [
    "datos._data"
   ]
  },
  {
   "cell_type": "code",
   "execution_count": null,
   "metadata": {},
   "outputs": [],
   "source": [
    "# ABSTRACCION\n",
    "# Implica ocultar la implementación compleja de una clase y mostrar solo las caracteristicas escenciales al usuario\n",
    "# Se lo hace definiendo clases abstractas usando el modulo ABC\n",
    "\n",
    "from abc import ABC, abstractmethod\n",
    "\n",
    "# Clase abstarcta que define la estructura para otras clases\n",
    "class CalculadorEstadisticas(ABC):\n",
    "    def __init__(self, data):\n",
    "        self.data = data\n",
    "    \n",
    "    # Método abstracto\n",
    "    @abstractmethod\n",
    "    def calcular(self):\n",
    "        pass"
   ]
  },
  {
   "cell_type": "code",
   "execution_count": null,
   "metadata": {},
   "outputs": [],
   "source": [
    "# Clase \"HIJA\"\n",
    "class CalculadorMedia(CalculadorEstadisticas):\n",
    "    def calcular(self):\n",
    "        return sum(self.data) / len(self.data)"
   ]
  },
  {
   "cell_type": "code",
   "execution_count": null,
   "metadata": {},
   "outputs": [],
   "source": [
    "# Clase que calcula la varianza pero no es \"abstarcta\"\n",
    "# Puede acceder directamente a la clase HIJA si es necesario\n",
    "class CalculadorVarianza:\n",
    "    def __init__(self, data):\n",
    "        self.data = data\n",
    "        self.calculador_media = CalculadorMedia(data) # Instancia a la clase CalculadorMedia\n",
    "\n",
    "    def calcular_varianza(self):\n",
    "        media = self.calculador_media.calcular()\n",
    "        return sum((x - media) ** 2 for x in self.data) / len(self.data)"
   ]
  },
  {
   "cell_type": "code",
   "execution_count": null,
   "metadata": {},
   "outputs": [],
   "source": [
    "datos = CalculadorVarianza([3,6,8])"
   ]
  },
  {
   "cell_type": "code",
   "execution_count": null,
   "metadata": {},
   "outputs": [],
   "source": [
    "datos.calculador_media"
   ]
  }
 ],
 "metadata": {
  "kernelspec": {
   "display_name": "Python 3",
   "language": "python",
   "name": "python3"
  },
  "language_info": {
   "codemirror_mode": {
    "name": "ipython",
    "version": 3
   },
   "file_extension": ".py",
   "mimetype": "text/x-python",
   "name": "python",
   "nbconvert_exporter": "python",
   "pygments_lexer": "ipython3",
   "version": "3.13.0"
  }
 },
 "nbformat": 4,
 "nbformat_minor": 2
}
